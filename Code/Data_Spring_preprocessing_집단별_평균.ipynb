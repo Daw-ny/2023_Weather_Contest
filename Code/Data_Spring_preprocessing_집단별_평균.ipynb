{
 "cells": [
  {
   "cell_type": "markdown",
   "id": "118a0d84",
   "metadata": {},
   "source": [
    "# 봄 데이터 전처리 진행"
   ]
  },
  {
   "cell_type": "markdown",
   "id": "4f5d59ca",
   "metadata": {},
   "source": [
    "## 함수형 코드 진행"
   ]
  },
  {
   "cell_type": "code",
   "execution_count": 1,
   "id": "14633f45",
   "metadata": {},
   "outputs": [],
   "source": [
    "# preprocessing\n",
    "import numpy as np\n",
    "import pandas as pd\n",
    "import tqdm\n",
    "from scipy import stats\n",
    "\n",
    "# imputer\n",
    "from sklearn.impute import KNNImputer\n",
    "from sklearn.experimental import enable_iterative_imputer\n",
    "from sklearn.impute import IterativeImputer\n",
    "\n",
    "# 경고 무시\n",
    "import warnings\n",
    "warnings.filterwarnings('ignore')"
   ]
  },
  {
   "cell_type": "code",
   "execution_count": 2,
   "id": "de03ad49",
   "metadata": {},
   "outputs": [],
   "source": [
    "# load data\n",
    "data = pd.read_csv('../data/spring_train.csv')\n",
    "test_data = pd.read_csv('../data/spring_test.csv')"
   ]
  },
  {
   "cell_type": "code",
   "execution_count": 3,
   "id": "81477c50",
   "metadata": {},
   "outputs": [],
   "source": [
    "# 변수간의 상관관계가 있는지 확인하고자 하는 함수\n",
    "def correlation_cal(data, ycol, xcol):\n",
    "    df = data.copy()\n",
    "    df = df.dropna(axis = 0)\n",
    "    select = []\n",
    "    for names in xcol:\n",
    "        if df[names].dtypes in ['int64', 'float64']:\n",
    "            c, p = stats.pearsonr(df[names], df[ycol])\n",
    "            if p <= 0.05 and abs(c) >= 0.5:\n",
    "                select.append(names)\n",
    "    \n",
    "    return select + [ycol]"
   ]
  },
  {
   "cell_type": "code",
   "execution_count": 4,
   "id": "d938b113",
   "metadata": {},
   "outputs": [],
   "source": [
    "# 이상치 탐색하기\n",
    "def abnormal_data(data, ycol, data_type, Q1, Q2, Q3):\n",
    "    df = data.copy()\n",
    "    if data_type == \"train\":\n",
    "        Q1 = np.quantile(df[ycol][df[ycol].notnull()], 0.25)\n",
    "        Q2 = np.quantile(df[ycol][df[ycol].notnull()], 0.5)\n",
    "        Q3 = np.quantile(df[ycol][df[ycol].notnull()], 0.75)\n",
    "        IQR = Q3 - Q1\n",
    "        df[ycol][(df[ycol] < (Q2 - IQR * 1.5)) | (df[ycol] > (Q2 + IQR * 1.5))] = np.nan\n",
    "        return df, Q1, Q2, Q3\n",
    "    \n",
    "    elif data_type == \"test\":\n",
    "        IQR = Q3 - Q1\n",
    "        df[ycol][(df[ycol] < (Q2 - IQR * 1.5)) | (df[ycol] > (Q2 + IQR * 1.5))] = np.nan\n",
    "        return df\n",
    "    \n",
    "    else:\n",
    "        print(\"없는 데이터 타입입니다. 확인하시고 train과 test중 하나를 입력해주세요.\")"
   ]
  },
  {
   "cell_type": "code",
   "execution_count": 5,
   "id": "948596c8",
   "metadata": {},
   "outputs": [],
   "source": [
    "# imputation 적용하기 : 두 가지 방법을 활용해 적용해두기\n",
    "# fit한 모델을 그대로 가져와 test셋에도 똑같이 적용하기 위해 return에 포함시킨다.\n",
    "def imputation_method(method, data, cols, neightbor = 2, weight = \"uniform\"):\n",
    "    if method == \"mice\":\n",
    "        imputer_mice = IterativeImputer(random_state=42)\n",
    "        imputer_mice.fit(data[cols])\n",
    "\n",
    "        # 데이터 변환 (array로 반환하기 때문에 필요에 맞는 형태로 변환 후 사용)\n",
    "        data[cols] = pd.DataFrame(imputer_mice.transform(data[cols]), columns=data[cols].columns)\n",
    "        \n",
    "        # 함수와 데이터 전부 리턴해야 나중에 테스트 셋에서도 사용할 수 있다.\n",
    "        return imputer_mice, data\n",
    "    \n",
    "    elif method == \"knn\":\n",
    "        # KNN을 이용한 자동 대치\n",
    "        imputer_KNN = KNNImputer(n_neighbors=neightbor, weights=weight)\n",
    "        imputer_KNN.fit(data[cols])\n",
    "\n",
    "        # 데이터 변환\n",
    "        data[cols] = pd.DataFrame(imputer_KNN.transform(data[cols]), columns=data[cols].columns)\n",
    "        \n",
    "        # 함수와 데이터 전부 리턴해야 나중에 테스트 셋에서도 사용할 수 있다.\n",
    "        return imputer_KNN, data\n",
    "    \n",
    "    else:\n",
    "        # 다른 임퓨터는 없어요\n",
    "        print(\"그 임퓨터는 지원되지 않습니다. 이름을 확인하거나 소문자로 입력 되었는지 확인해주소.\")"
   ]
  },
  {
   "cell_type": "code",
   "execution_count": 6,
   "id": "630a271b",
   "metadata": {},
   "outputs": [],
   "source": [
    "# 원하는 변수의 평균값 구해두기\n",
    "def mean_number(df, needs):\n",
    "    mean_list = df[needs].mean()\n",
    "    \n",
    "    for name in tqdm.tqdm(needs):\n",
    "        df[name][df[name].isna()] = mean_list[name]\n",
    "    \n",
    "    print(df[needs].isna().sum())\n",
    "    return df, mean_list"
   ]
  },
  {
   "cell_type": "code",
   "execution_count": 7,
   "id": "fdf224db",
   "metadata": {},
   "outputs": [],
   "source": [
    "# 일사, 일조량 데이터 결측값 대치\n",
    "def sun_power(selectdata, wantcol, hour, sunrise, sunset, weather):\n",
    "    df = selectdata.copy()\n",
    "    for name in tqdm.tqdm(wantcol):\n",
    "        conditions = [\n",
    "            df[name].notnull(),\n",
    "            ((df[hour] < df[sunrise]) | (df[hour] > df[sunset])),\n",
    "            (df[sunrise] <= df[hour]) & (df[hour] <= df[sunset]) & (df[weather].isin(['C'])),\n",
    "            (df[sunrise] <= df[hour]) & (df[hour] <= df[sunset]) & (~df[weather].isin(['C']))\n",
    "        ]\n",
    "        choices = [\n",
    "            df[name], \n",
    "            0, \n",
    "            df[name][df[weather].isin(['C'])].mean(),\n",
    "            df[name][~df[weather].isin(['C'])].mean()\n",
    "                  ]\n",
    "        df[name] = np.select(conditions, choices)\n",
    "    return df, choices"
   ]
  },
  {
   "cell_type": "code",
   "execution_count": 8,
   "id": "6827e690",
   "metadata": {},
   "outputs": [],
   "source": [
    "# 강수량, 강수유무 결측값 대치\n",
    "def rain_power(selectdata, wantcol, weather):\n",
    "    df = selectdata.copy()\n",
    "    for name in tqdm.tqdm(wantcol):\n",
    "        conditions = [\n",
    "            df[name].notnull(),\n",
    "            (df[weather].isin(['R'])),\n",
    "            (df[weather].isin(['F', 'H'])),\n",
    "            (~df[weather].isin(['R', 'F', 'H'])),\n",
    "        ]\n",
    "        choices = [\n",
    "            df[name], \n",
    "            round(df[name][df[weather].isin(['R'])].mean(), 1),\n",
    "            round(df[name][df[weather].isin(['F', 'H'])].mean(), 1),\n",
    "            round(df[name][~df[weather].isin(['R', 'F', 'H'])].mean(), 1)\n",
    "                  ]\n",
    "        df[name] = np.select(conditions, choices)\n",
    "    return df, choices"
   ]
  },
  {
   "cell_type": "markdown",
   "id": "4d2ca8ad",
   "metadata": {},
   "source": [
    "## 적용 코드"
   ]
  },
  {
   "cell_type": "code",
   "execution_count": 9,
   "id": "8041d7f2",
   "metadata": {},
   "outputs": [
    {
     "name": "stderr",
     "output_type": "stream",
     "text": [
      "100%|███████████████████████████████████████████████████████████████████████████████████| 4/4 [00:00<00:00, 397.60it/s]"
     ]
    },
    {
     "name": "stdout",
     "output_type": "stream",
     "text": [
      "ta    0\n",
      "td    0\n",
      "hm    0\n",
      "ws    0\n",
      "dtype: int64\n"
     ]
    },
    {
     "name": "stderr",
     "output_type": "stream",
     "text": [
      "\n"
     ]
    }
   ],
   "source": [
    "# 기온 이슬점 습도 풍속 대치\n",
    "data2, mlist = mean_number(data, ['ta', 'td', 'hm', 'ws'])"
   ]
  },
  {
   "cell_type": "code",
   "execution_count": 10,
   "id": "90891f3b",
   "metadata": {},
   "outputs": [
    {
     "name": "stderr",
     "output_type": "stream",
     "text": [
      "100%|████████████████████████████████████████████████████████████████████████████████████| 2/2 [00:00<00:00, 42.56it/s]\n"
     ]
    }
   ],
   "source": [
    "# 태양과 관련된 변수 대치\n",
    "data3, param_s = sun_power(data2, ['si', 'ss'], 'hh', 'sunriseh', 'sunseth', 'ww')"
   ]
  },
  {
   "cell_type": "code",
   "execution_count": 11,
   "id": "093cf737",
   "metadata": {},
   "outputs": [
    {
     "name": "stderr",
     "output_type": "stream",
     "text": [
      "100%|████████████████████████████████████████████████████████████████████████████████████| 2/2 [00:00<00:00, 35.87it/s]\n"
     ]
    }
   ],
   "source": [
    "# 비와 관련된 변수 대치\n",
    "data4, param_r = rain_power(data3, ['rn', 're'], 'ww')"
   ]
  },
  {
   "cell_type": "code",
   "execution_count": 12,
   "id": "1755795d",
   "metadata": {},
   "outputs": [],
   "source": [
    "# 봄이므로 적설량 없다 취급\n",
    "data4['sn'][data4['sn'].isna()] = 0"
   ]
  },
  {
   "cell_type": "code",
   "execution_count": 13,
   "id": "442e39c7",
   "metadata": {},
   "outputs": [
    {
     "data": {
      "text/plain": [
       "Index(['stn', 'year', 'ta', 'td', 'hm', 'ws', 'rn', 're', 'ww', 'ts', 'si',\n",
       "       'ss', 'sn', 'mm', 'dd', 'hh', 'sunriseh', 'sunrisem', 'sunseth',\n",
       "       'sunsetm'],\n",
       "      dtype='object')"
      ]
     },
     "execution_count": 13,
     "metadata": {},
     "output_type": "execute_result"
    }
   ],
   "source": [
    "data4.columns"
   ]
  },
  {
   "cell_type": "code",
   "execution_count": 14,
   "id": "639e11ba",
   "metadata": {},
   "outputs": [],
   "source": [
    "# 이상치를 결측치로 전환과 동시에 Q1, Q2, Q3 값 뽑아주기\n",
    "# test 데이테에서 또한 사용해야함\n",
    "data5, Q1, Q2, Q3 = abnormal_data(data4, \"ts\", \"train\", 0, 0, 0)"
   ]
  },
  {
   "cell_type": "code",
   "execution_count": 15,
   "id": "237cd8b6",
   "metadata": {},
   "outputs": [],
   "source": [
    "# 시간단위를 분 단위로 바꿔주기(이 코드는 한번만 돌려야지 잘 적용된다.)\n",
    "data5['ss'] = round(data5['ss'] * 60)"
   ]
  },
  {
   "cell_type": "code",
   "execution_count": 16,
   "id": "8e388610",
   "metadata": {},
   "outputs": [],
   "source": [
    "# 필요없는 변수 빼기\n",
    "data6 = data5[data5.columns.difference(['sunriseh', 'sunrisem', 'sunseth', 'sunsetm', 'ww', 'Unnamed: 0'])]"
   ]
  },
  {
   "cell_type": "code",
   "execution_count": 17,
   "id": "5466a447",
   "metadata": {},
   "outputs": [],
   "source": [
    "# 상관계수 절댓값 0.5이상과 p-value가 0.05이하인 변수만 선택\n",
    "# select_col = correlation_cal(data6, 'ts', list(data6.columns.difference(['ts'])))"
   ]
  },
  {
   "cell_type": "code",
   "execution_count": 18,
   "id": "67b1fd44",
   "metadata": {},
   "outputs": [],
   "source": [
    "# imputation 진행하기\n",
    "# 연도 제외시키기\n",
    "tmp = data6.drop(['year'],axis = 1)\n",
    "\n",
    "# mice, data7 = imputation_method(\"mice\", data6, select_col)\n",
    "# knn, data8 = imputation_method(\"knn\", data6, select_col)\n",
    "imputer_mice = IterativeImputer(random_state=42)\n",
    "imputer_mice.fit(tmp)\n",
    "\n",
    "# 데이터 변환 (array로 반환하기 때문에 필요에 맞는 형태로 변환 후 사용)\n",
    "tmp2 = pd.DataFrame(imputer_mice.transform(tmp), columns=tmp.columns)\n",
    "\n",
    "# 데이터에 mice한 값 집어넣기\n",
    "data6['ts'] = tmp2['ts']"
   ]
  },
  {
   "cell_type": "code",
   "execution_count": 19,
   "id": "56ec7160",
   "metadata": {},
   "outputs": [],
   "source": [
    "# 데이터 저장\n",
    "data6.to_csv('../data/spring_impute.csv', index = False)"
   ]
  },
  {
   "cell_type": "markdown",
   "id": "bed2bc7b",
   "metadata": {},
   "source": [
    "==================================================================================================="
   ]
  },
  {
   "cell_type": "code",
   "execution_count": 20,
   "id": "411a5345",
   "metadata": {},
   "outputs": [],
   "source": [
    "# 계산식 활용해서 변수 추가\n",
    "data7 = data6.copy()"
   ]
  },
  {
   "cell_type": "code",
   "execution_count": 21,
   "id": "f5d0700b",
   "metadata": {},
   "outputs": [],
   "source": [
    "# 체감온도(℃)\n",
    "data7['sensory_temp'] = 13.12 + 0.6215*data7['ta'] - 11.37*(data7['ws']**0.16) + 0.3965*(data7['ws']**0.16)*(data7['ta'])"
   ]
  },
  {
   "cell_type": "code",
   "execution_count": 22,
   "id": "f9e6b0de",
   "metadata": {},
   "outputs": [],
   "source": [
    "# 온도에 따른 포화 수증기압(mb)\n",
    "data7['vapor_pressure'] = 6.11*10**((7.5*data7['ta'])/(237.3 + data7['ta']))"
   ]
  },
  {
   "cell_type": "code",
   "execution_count": 23,
   "id": "e620b035",
   "metadata": {},
   "outputs": [],
   "source": [
    "# 현재 대기의 수증기압(mb)\n",
    "data7['air_pressure'] = data7['hm'] * data7['vapor_pressure'] / 100"
   ]
  },
  {
   "cell_type": "code",
   "execution_count": 24,
   "id": "fa44fc96",
   "metadata": {},
   "outputs": [],
   "source": [
    "# 절대습도(g/m^3)\n",
    "data7['abs_hm'] = (0.794*data7['air_pressure'])/(1+0.00366*data7['ta'])"
   ]
  },
  {
   "cell_type": "code",
   "execution_count": 25,
   "id": "bc41a18d",
   "metadata": {},
   "outputs": [],
   "source": [
    "# 공기중의 혼합비(mb)\n",
    "data7['air_mix'] = 0.622 * data7['air_pressure']/(1013.25 - data7['air_pressure'])"
   ]
  },
  {
   "cell_type": "code",
   "execution_count": 26,
   "id": "ecbb6782",
   "metadata": {},
   "outputs": [],
   "source": [
    "# 넷째자리까지 반올림해서 저장\n",
    "round(data7, 4).to_csv('../data/spring_new_value.csv', index = False)"
   ]
  },
  {
   "cell_type": "markdown",
   "id": "078eb201",
   "metadata": {},
   "source": [
    "## Test data"
   ]
  },
  {
   "cell_type": "code",
   "execution_count": 27,
   "id": "aa8661ab",
   "metadata": {},
   "outputs": [
    {
     "name": "stderr",
     "output_type": "stream",
     "text": [
      "100%|███████████████████████████████████████████████████████████████████████████████████| 4/4 [00:00<00:00, 287.78it/s]\n"
     ]
    }
   ],
   "source": [
    "# 값 대치\n",
    "for name in tqdm.tqdm(['ta', 'td', 'hm', 'ws']):\n",
    "        test_data[name][test_data[name].isna()] = mlist[name]"
   ]
  },
  {
   "cell_type": "code",
   "execution_count": 28,
   "id": "449c63f4",
   "metadata": {},
   "outputs": [
    {
     "name": "stderr",
     "output_type": "stream",
     "text": [
      "100%|███████████████████████████████████████████████████████████████████████████████████| 2/2 [00:00<00:00, 188.87it/s]\n"
     ]
    }
   ],
   "source": [
    "# 태양관련 변수 대입\n",
    "for name in tqdm.tqdm(['si', 'ss']):\n",
    "    conditions = [\n",
    "        test_data[name].notnull(),\n",
    "        ((test_data['hh'] < test_data['sunriseh']) | (test_data['hh'] > test_data['sunseth'])),\n",
    "        (test_data['sunriseh'] <= test_data['hh']) & (test_data['hh'] <= test_data['sunseth']) & (test_data['ww'].isin(['C'])),\n",
    "        (test_data['sunriseh'] <= test_data['hh']) & (test_data['hh'] <= test_data['sunseth']) & (~test_data['ww'].isin(['C']))\n",
    "    ]\n",
    "    param_s[0] = test_data[name]\n",
    "    test_data[name] = np.select(conditions, param_s)"
   ]
  },
  {
   "cell_type": "code",
   "execution_count": 29,
   "id": "2e610e86",
   "metadata": {},
   "outputs": [
    {
     "name": "stderr",
     "output_type": "stream",
     "text": [
      "100%|███████████████████████████████████████████████████████████████████████████████████| 2/2 [00:00<00:00, 209.01it/s]\n"
     ]
    }
   ],
   "source": [
    "# 비 관련 변수 대입\n",
    "for name in tqdm.tqdm(['rn', 're']):\n",
    "    conditions = [\n",
    "        test_data[name].notnull(),\n",
    "        (test_data['ww'].isin(['R'])),\n",
    "        (test_data['ww'].isin(['F', 'H'])),\n",
    "        (~test_data['ww'].isin(['R', 'F', 'H'])),\n",
    "    ]\n",
    "    param_r[0] = test_data[name]\n",
    "    test_data[name] = np.select(conditions, param_r)"
   ]
  },
  {
   "cell_type": "code",
   "execution_count": 30,
   "id": "1703b1b8",
   "metadata": {},
   "outputs": [],
   "source": [
    "# 적설량 0으로 통일\n",
    "# 봄이므로 적설량 없다 취급\n",
    "test_data['sn'][test_data['sn'].isna()] = 0"
   ]
  },
  {
   "cell_type": "code",
   "execution_count": 31,
   "id": "fe333cfe",
   "metadata": {},
   "outputs": [],
   "source": [
    "# 시간단위를 분 단위로 바꿔주기(이 코드는 한번만 돌려야지 잘 적용된다.)\n",
    "test_data['ss'] = round(test_data['ss'] * 60)"
   ]
  },
  {
   "cell_type": "code",
   "execution_count": 32,
   "id": "fa46b58f",
   "metadata": {},
   "outputs": [],
   "source": [
    "# 필요없는 변수 빼기\n",
    "test_data2 = test_data[test_data.columns.difference(['sunriseh', 'sunrisem', 'sunseth', 'sunsetm', 'ww'])]"
   ]
  },
  {
   "cell_type": "code",
   "execution_count": 33,
   "id": "33e879ad",
   "metadata": {},
   "outputs": [],
   "source": [
    "# 데이터 저장\n",
    "test_data2.to_csv('../data/spring_test_complete.csv', index = False)"
   ]
  },
  {
   "cell_type": "markdown",
   "id": "2f826173",
   "metadata": {},
   "source": [
    "==================================================================================================="
   ]
  },
  {
   "cell_type": "code",
   "execution_count": 34,
   "id": "c4af7996",
   "metadata": {},
   "outputs": [],
   "source": [
    "# test\n",
    "test_data3 = test_data2.copy()"
   ]
  },
  {
   "cell_type": "code",
   "execution_count": 35,
   "id": "e69c4a88",
   "metadata": {},
   "outputs": [],
   "source": [
    "# 체감온도(℃)\n",
    "test_data3['sensory_temp'] = 13.12 + 0.6215*test_data3['ta'] - 11.37*(test_data3['ws']**0.16) + 0.3965*(test_data3['ws']**0.16)*(test_data3['ta'])"
   ]
  },
  {
   "cell_type": "code",
   "execution_count": 36,
   "id": "032731eb",
   "metadata": {},
   "outputs": [],
   "source": [
    "# 온도에 따른 포화 수증기압(mb)\n",
    "test_data3['vapor_pressure'] = 6.11*10**((7.5*test_data3['ta'])/(237.3 + test_data3['ta']))"
   ]
  },
  {
   "cell_type": "code",
   "execution_count": 37,
   "id": "37869d51",
   "metadata": {},
   "outputs": [],
   "source": [
    "# 현재 대기의 수증기압(mb)\n",
    "test_data3['air_pressure'] = test_data3['hm'] * test_data3['vapor_pressure'] / 100"
   ]
  },
  {
   "cell_type": "code",
   "execution_count": 38,
   "id": "f13c598c",
   "metadata": {},
   "outputs": [],
   "source": [
    "# 절대습도(g/m^3)\n",
    "test_data3['abs_hm'] = (0.794*test_data3['air_pressure'])/(1+0.00366*test_data3['ta'])"
   ]
  },
  {
   "cell_type": "code",
   "execution_count": 39,
   "id": "9cc27a0c",
   "metadata": {},
   "outputs": [],
   "source": [
    "# 공기중의 혼합비(mb)\n",
    "test_data3['air_mix'] = 0.622 * test_data3['air_pressure']/(1013.25 - test_data3['air_pressure'])"
   ]
  },
  {
   "cell_type": "code",
   "execution_count": 40,
   "id": "c0a56a5b",
   "metadata": {},
   "outputs": [],
   "source": [
    "# 넷째자리까지 반올림해서 저장\n",
    "round(test_data3, 4).to_csv('../data/spring_new_test_value.csv', index = False)"
   ]
  }
 ],
 "metadata": {
  "kernelspec": {
   "display_name": "please",
   "language": "python",
   "name": "please"
  },
  "language_info": {
   "codemirror_mode": {
    "name": "ipython",
    "version": 3
   },
   "file_extension": ".py",
   "mimetype": "text/x-python",
   "name": "python",
   "nbconvert_exporter": "python",
   "pygments_lexer": "ipython3",
   "version": "3.7.13"
  }
 },
 "nbformat": 4,
 "nbformat_minor": 5
}
