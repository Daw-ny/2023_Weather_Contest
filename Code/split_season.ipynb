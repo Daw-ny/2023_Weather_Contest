{
 "cells": [
  {
   "cell_type": "markdown",
   "id": "8a588d5c",
   "metadata": {},
   "source": [
    "# 계절별 분리"
   ]
  },
  {
   "cell_type": "code",
   "execution_count": 1,
   "id": "f7cd9519",
   "metadata": {},
   "outputs": [],
   "source": [
    "# preprocessing\n",
    "import numpy as np\n",
    "import pandas as pd\n",
    "import tqdm\n",
    "\n",
    "# 경고 무시\n",
    "import warnings\n",
    "warnings.filterwarnings('ignore')"
   ]
  },
  {
   "cell_type": "code",
   "execution_count": 2,
   "id": "cbdf2a7a",
   "metadata": {},
   "outputs": [],
   "source": [
    "# load data\n",
    "test = pd.read_csv('../data/test_yests.csv')"
   ]
  },
  {
   "cell_type": "code",
   "execution_count": 3,
   "id": "41221666",
   "metadata": {},
   "outputs": [],
   "source": [
    "# split data with season\n",
    "spring = test[test['mm'].isin([3, 4, 2])]\n",
    "summer = test[test['mm'].isin([6, 7, 5])]\n",
    "fall = test[test['mm'].isin([9, 10, 8])]\n",
    "winter = test[test['mm'].isin([12, 1, 11])]"
   ]
  },
  {
   "cell_type": "code",
   "execution_count": 4,
   "id": "31c32dd7",
   "metadata": {},
   "outputs": [],
   "source": [
    "# write,csv\n",
    "spring.to_csv('../data/spring_test.csv', index = False)\n",
    "summer.to_csv('../data/summer_test.csv', index = False)\n",
    "fall.to_csv('../data/fall_test.csv', index = False)\n",
    "winter.to_csv('../data/winter_test.csv', index = False)"
   ]
  }
 ],
 "metadata": {
  "kernelspec": {
   "display_name": "please",
   "language": "python",
   "name": "please"
  },
  "language_info": {
   "codemirror_mode": {
    "name": "ipython",
    "version": 3
   },
   "file_extension": ".py",
   "mimetype": "text/x-python",
   "name": "python",
   "nbconvert_exporter": "python",
   "pygments_lexer": "ipython3",
   "version": "3.7.13"
  }
 },
 "nbformat": 4,
 "nbformat_minor": 5
}
