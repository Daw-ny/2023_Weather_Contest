{
 "cells": [
  {
   "cell_type": "markdown",
   "id": "dc2916ac",
   "metadata": {},
   "source": [
    "## 변수 중요도"
   ]
  },
  {
   "cell_type": "code",
   "execution_count": 19,
   "id": "a899c984",
   "metadata": {},
   "outputs": [],
   "source": [
    "# preprocessing\n",
    "import numpy as np\n",
    "import pandas as pd\n",
    "import tqdm\n",
    "\n",
    "# 경고 무시\n",
    "import warnings\n",
    "warnings.filterwarnings('ignore')\n",
    "\n",
    "# graph\n",
    "from matplotlib import pyplot as plt\n",
    "import seaborn as sns\n",
    "\n",
    "# 모델 저장\n",
    "import pickle\n",
    "\n",
    "# model learning\n",
    "from sklearn.model_selection import train_test_split\n",
    "from supervised.automl import AutoML\n",
    "from sklearn.utils.class_weight import compute_sample_weight\n",
    "from sklearn.metrics import accuracy_score\n",
    "\n",
    "# importance\n",
    "import rfpimp"
   ]
  },
  {
   "cell_type": "code",
   "execution_count": 10,
   "id": "1b374b89",
   "metadata": {},
   "outputs": [],
   "source": [
    "# 모델 불러오기\n",
    "with open('003_plan_spring_automl.pickle', 'rb') as f: \n",
    "     springmodel = pickle.load(f)"
   ]
  },
  {
   "cell_type": "code",
   "execution_count": 11,
   "id": "d0b6d78c",
   "metadata": {},
   "outputs": [],
   "source": [
    "# 모델 불러오기\n",
    "with open('008_plan_summer_automl.pickle', 'rb') as f: \n",
    "     summermodel = pickle.load(f)"
   ]
  },
  {
   "cell_type": "code",
   "execution_count": 12,
   "id": "3e30aaac",
   "metadata": {},
   "outputs": [],
   "source": [
    "# load data\n",
    "spring_data = pd.read_csv('../data/spring_new_value.csv')\n",
    "summer_data = pd.read_csv('../data/summer_mice_twice_train.csv')"
   ]
  },
  {
   "cell_type": "code",
   "execution_count": 13,
   "id": "4ada82ff",
   "metadata": {},
   "outputs": [],
   "source": [
    "# split the train & valid data\n",
    "X_train_spring, X_valid_spring, y_train_spring, y_valid_spring = train_test_split(\n",
    "    spring_data[spring_data.columns.difference(['ts', 'stn', 'year'])],\n",
    "    spring_data['ts'],\n",
    "    test_size=0.3,\n",
    "    random_state=42,\n",
    ")"
   ]
  },
  {
   "cell_type": "code",
   "execution_count": 14,
   "id": "e155812d",
   "metadata": {},
   "outputs": [],
   "source": [
    "# split the train & valid data\n",
    "X_train_summer, X_valid_summer, y_train_summer, y_valid_summer = train_test_split(\n",
    "    summer_data[summer_data.columns.difference(['ts', 'stn', 'year'])],\n",
    "    summer_data['ts'],\n",
    "    test_size=0.3,\n",
    "    random_state=42,\n",
    ")"
   ]
  }
 ],
 "metadata": {
  "kernelspec": {
   "display_name": "please",
   "language": "python",
   "name": "please"
  },
  "language_info": {
   "codemirror_mode": {
    "name": "ipython",
    "version": 3
   },
   "file_extension": ".py",
   "mimetype": "text/x-python",
   "name": "python",
   "nbconvert_exporter": "python",
   "pygments_lexer": "ipython3",
   "version": "3.7.13"
  }
 },
 "nbformat": 4,
 "nbformat_minor": 5
}
