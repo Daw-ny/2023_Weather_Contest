{
 "cells": [
  {
   "cell_type": "markdown",
   "id": "32bd8a81",
   "metadata": {},
   "source": [
    "# 월, 일별 일출, 일몰 시간뽑기"
   ]
  },
  {
   "cell_type": "code",
   "execution_count": 1,
   "id": "6d502dea",
   "metadata": {},
   "outputs": [],
   "source": [
    "# preprocessing\n",
    "import numpy as np\n",
    "import pandas as pd\n",
    "import tqdm\n",
    "import os\n",
    "import glob\n",
    "\n",
    "# 경고 무시\n",
    "import warnings\n",
    "warnings.filterwarnings('ignore')"
   ]
  },
  {
   "cell_type": "code",
   "execution_count": 2,
   "id": "128b6646",
   "metadata": {},
   "outputs": [],
   "source": [
    "# 년월일 데이터 분리\n",
    "def splitmmdd(df, datecolumn):\n",
    "    df[datecolumn] = df[datecolumn].astype(str).str.zfill(6)\n",
    "    df['mm'] = df[datecolumn].str.slice(4, 6).astype(int)\n",
    "    df['dd'] = df[datecolumn].str.slice(6, 8).astype(int)\n",
    "    return df.drop(datecolumn, axis = 1)"
   ]
  },
  {
   "cell_type": "code",
   "execution_count": 3,
   "id": "785eec58",
   "metadata": {},
   "outputs": [],
   "source": [
    "def make_merge_xlsx(path, names):\n",
    "    # 파일 불러오기\n",
    "    files = glob.glob(path + \"*.xlsx\")\n",
    "\n",
    "    # 빈 데이터프레임 만들기\n",
    "    excel = pd.DataFrame()\n",
    "    \n",
    "    # 데이터 하나씩 불러와서 붙이기\n",
    "    for file_name in files:\n",
    "        df = pd.read_excel(file_name, names = names)\n",
    "        excel = excel.append(df, ignore_index=False)\n",
    "        \n",
    "    return excel"
   ]
  },
  {
   "cell_type": "code",
   "execution_count": 4,
   "id": "1cc1e58f",
   "metadata": {},
   "outputs": [],
   "source": [
    "# 경로 설정\n",
    "path = '../data/sun/'\n",
    "\n",
    "# 이름 설정\n",
    "names = ['date', '음력', 'sunrise', '남중', 'sunset'] + ['nouse'] * 9"
   ]
  },
  {
   "cell_type": "code",
   "execution_count": 5,
   "id": "44101eeb",
   "metadata": {},
   "outputs": [],
   "source": [
    "# 통합하기\n",
    "df = make_merge_xlsx(path, names)"
   ]
  },
  {
   "cell_type": "code",
   "execution_count": 6,
   "id": "6274ed62",
   "metadata": {},
   "outputs": [],
   "source": [
    "# 필요한 데이터만 추출하기\n",
    "makesun = df[df['date'].notnull()].iloc[:,[0, 2, 4]]"
   ]
  },
  {
   "cell_type": "code",
   "execution_count": 7,
   "id": "9be478fd",
   "metadata": {},
   "outputs": [],
   "source": [
    "# 2월 29일 2020년으로 직접 조사해서 대입\n",
    "makesun.loc[len(makesun)] = [20200229, '07:04', '18:24']"
   ]
  },
  {
   "cell_type": "code",
   "execution_count": 8,
   "id": "8953be27",
   "metadata": {},
   "outputs": [],
   "source": [
    "# 년도 삭제 및 월, 일 분리\n",
    "sun = splitmmdd(makesun, 'date')"
   ]
  },
  {
   "cell_type": "code",
   "execution_count": 9,
   "id": "555049b5",
   "metadata": {},
   "outputs": [],
   "source": [
    "# 일출, 일말 월/일 나누기\n",
    "sun[['sunriseh', 'sunrisem']] = sun['sunrise'].str.split(':', expand=True)\n",
    "sun[['sunseth', 'sunsetm']] = sun['sunset'].str.split(':', expand=True)"
   ]
  },
  {
   "cell_type": "code",
   "execution_count": 10,
   "id": "bb33d1e6",
   "metadata": {},
   "outputs": [],
   "source": [
    "# 데이터 속성 int로 바꾸기\n",
    "finalsun = sun[['mm', 'dd', 'sunriseh', 'sunrisem', 'sunseth', 'sunsetm']].astype(int)"
   ]
  },
  {
   "cell_type": "code",
   "execution_count": 11,
   "id": "88198249",
   "metadata": {},
   "outputs": [],
   "source": [
    "# 데이터 저장하기\n",
    "finalsun.to_csv('../data/sun.csv', index=False)"
   ]
  }
 ],
 "metadata": {
  "kernelspec": {
   "display_name": "please",
   "language": "python",
   "name": "please"
  },
  "language_info": {
   "codemirror_mode": {
    "name": "ipython",
    "version": 3
   },
   "file_extension": ".py",
   "mimetype": "text/x-python",
   "name": "python",
   "nbconvert_exporter": "python",
   "pygments_lexer": "ipython3",
   "version": "3.7.13"
  }
 },
 "nbformat": 4,
 "nbformat_minor": 5
}
