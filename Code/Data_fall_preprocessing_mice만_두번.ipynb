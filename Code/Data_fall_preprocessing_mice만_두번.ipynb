{
 "cells": [
  {
   "cell_type": "markdown",
   "id": "d5aac51a",
   "metadata": {},
   "source": [
    "# 여름데이터 전처리 진행"
   ]
  },
  {
   "cell_type": "markdown",
   "id": "a8f38792",
   "metadata": {},
   "source": [
    "## 함수형 코드 진행"
   ]
  },
  {
   "cell_type": "code",
   "execution_count": 1,
   "id": "0b0da8b8",
   "metadata": {},
   "outputs": [],
   "source": [
    "# preprocessing\n",
    "import numpy as np\n",
    "import pandas as pd\n",
    "import tqdm\n",
    "from scipy import stats\n",
    "\n",
    "# imputer\n",
    "from sklearn.impute import KNNImputer\n",
    "from sklearn.experimental import enable_iterative_imputer\n",
    "from sklearn.impute import IterativeImputer\n",
    "\n",
    "# 경고 무시\n",
    "import warnings\n",
    "warnings.filterwarnings('ignore')"
   ]
  },
  {
   "cell_type": "code",
   "execution_count": 2,
   "id": "a63251b2",
   "metadata": {},
   "outputs": [],
   "source": [
    "# load data\n",
    "data = pd.read_csv('../data/fall_train.csv')\n",
    "test = pd.read_csv('../data/fall_test.csv')\n",
    "test_data = test.copy()"
   ]
  },
  {
   "cell_type": "code",
   "execution_count": 3,
   "id": "c696c4fd",
   "metadata": {},
   "outputs": [],
   "source": [
    "# 변수간의 상관관계가 있는지 확인하고자 하는 함수\n",
    "def correlation_cal(data, ycol, xcol):\n",
    "    df = data.copy()\n",
    "    df = df.dropna(axis = 0)\n",
    "    select = []\n",
    "    for names in xcol:\n",
    "        if df[names].dtypes in ['int64', 'float64']:\n",
    "            c, p = stats.pearsonr(df[names], df[ycol])\n",
    "            if p <= 0.05 and abs(c) >= 0.5:\n",
    "                select.append(names)\n",
    "    \n",
    "    return select + [ycol]"
   ]
  },
  {
   "cell_type": "code",
   "execution_count": 4,
   "id": "47e26904",
   "metadata": {},
   "outputs": [],
   "source": [
    "# 이상치 탐색하기\n",
    "def abnormal_data(data, ycol, data_type, Q1, Q2, Q3):\n",
    "    df = data.copy()\n",
    "    if data_type == \"train\":\n",
    "        Q1 = np.quantile(df[ycol][df[ycol].notnull()], 0.25)\n",
    "        Q2 = np.quantile(df[ycol][df[ycol].notnull()], 0.5)\n",
    "        Q3 = np.quantile(df[ycol][df[ycol].notnull()], 0.75)\n",
    "        IQR = Q3 - Q1\n",
    "        df[ycol][(df[ycol] < (Q2 - IQR * 1.5)) | (df[ycol] > (Q2 + IQR * 1.5))] = np.nan\n",
    "        return df, Q1, Q2, Q3\n",
    "    \n",
    "    elif data_type == \"test\":\n",
    "        IQR = Q3 - Q1\n",
    "        df[ycol][(df[ycol] < (Q2 - IQR * 1.5)) | (df[ycol] > (Q2 + IQR * 1.5))] = np.nan\n",
    "        return df\n",
    "    \n",
    "    else:\n",
    "        print(\"없는 데이터 타입입니다. 확인하시고 train과 test중 하나를 입력해주세요.\")"
   ]
  },
  {
   "cell_type": "code",
   "execution_count": 5,
   "id": "6f932211",
   "metadata": {},
   "outputs": [],
   "source": [
    "# imputation 적용하기 : 두 가지 방법을 활용해 적용해두기\n",
    "# fit한 모델을 그대로 가져와 test셋에도 똑같이 적용하기 위해 return에 포함시킨다.\n",
    "def imputation_method(method, data, cols, neightbor = 2, weight = \"uniform\"):\n",
    "    if method == \"mice\":\n",
    "        imputer_mice = IterativeImputer(random_state=42)\n",
    "        imputer_mice.fit(data[cols])\n",
    "\n",
    "        # 데이터 변환 (array로 반환하기 때문에 필요에 맞는 형태로 변환 후 사용)\n",
    "        data[cols] = pd.DataFrame(imputer_mice.transform(data[cols]), columns=data[cols].columns)\n",
    "        \n",
    "        # 함수와 데이터 전부 리턴해야 나중에 테스트 셋에서도 사용할 수 있다.\n",
    "        return imputer_mice, data\n",
    "    \n",
    "    elif method == \"knn\":\n",
    "        # KNN을 이용한 자동 대치\n",
    "        imputer_KNN = KNNImputer(n_neighbors=neightbor, weights=weight)\n",
    "        imputer_KNN.fit(data[cols])\n",
    "\n",
    "        # 데이터 변환\n",
    "        data[cols] = pd.DataFrame(imputer_KNN.transform(data[cols]), columns=data[cols].columns)\n",
    "        \n",
    "        # 함수와 데이터 전부 리턴해야 나중에 테스트 셋에서도 사용할 수 있다.\n",
    "        return imputer_KNN, data\n",
    "    \n",
    "    else:\n",
    "        # 다른 임퓨터는 없어요\n",
    "        print(\"그 임퓨터는 지원되지 않습니다. 이름을 확인하거나 소문자로 입력 되었는지 확인해주소.\")"
   ]
  },
  {
   "cell_type": "code",
   "execution_count": 6,
   "id": "5fd121e5",
   "metadata": {},
   "outputs": [],
   "source": [
    "# 원하는 변수의 평균값 구해두기\n",
    "def mean_number(data, needs):\n",
    "    df = data.copy()\n",
    "    mean_list = df[needs].mean()\n",
    "    \n",
    "    for name in tqdm.tqdm(needs):\n",
    "        df[name][df[name].isna()] = mean_list[name]\n",
    "    \n",
    "    print(df[needs].isna().sum())\n",
    "    return df, mean_list"
   ]
  },
  {
   "cell_type": "code",
   "execution_count": 7,
   "id": "f23c8279",
   "metadata": {},
   "outputs": [],
   "source": [
    "# 일사, 일조량 데이터 결측값 대치\n",
    "def sun_power(selectdata, wantcol, hour, sunrise, sunset, weather):\n",
    "    df = selectdata.copy()\n",
    "    for name in tqdm.tqdm(wantcol):\n",
    "        conditions = [\n",
    "            df[name].notnull(),\n",
    "            ((df[hour] < df[sunrise]) | (df[hour] > df[sunset])),\n",
    "            (df[sunrise] <= df[hour]) & (df[hour] <= df[sunset]) & (df[weather].isin(['C'])),\n",
    "            (df[sunrise] <= df[hour]) & (df[hour] <= df[sunset]) & (~df[weather].isin(['C']))\n",
    "        ]\n",
    "        choices = [\n",
    "            df[name], \n",
    "            0, \n",
    "            round(df[name][df[weather].isin(['C'])].mean(), 1),\n",
    "            round(df[name][~df[weather].isin(['C'])].mean(), 1)\n",
    "                  ]\n",
    "        df[name] = np.select(conditions, choices)\n",
    "    return df, choices"
   ]
  },
  {
   "cell_type": "code",
   "execution_count": 8,
   "id": "570760f7",
   "metadata": {},
   "outputs": [],
   "source": [
    "# 강수량, 강수유무 결측값 대치\n",
    "def rain_power(selectdata, wantcol, weather):\n",
    "    df = selectdata.copy()\n",
    "    for name in tqdm.tqdm(wantcol):\n",
    "        conditions = [\n",
    "            df[name].notnull(),\n",
    "            (df[weather].isin(['R'])),\n",
    "            (df[weather].isin(['F', 'H'])),\n",
    "            (~df[weather].isin(['R', 'F', 'H'])),\n",
    "        ]\n",
    "        choices = [\n",
    "            df[name], \n",
    "            round(df[name][df[weather].isin(['R'])].mean(), 1),\n",
    "            round(df[name][df[weather].isin(['F', 'H'])].mean(), 1),\n",
    "            round(df[name][~df[weather].isin(['R', 'F', 'H'])].mean(), 1),\n",
    "                  ]\n",
    "        df[name] = np.select(conditions, choices)\n",
    "    return df, choices"
   ]
  },
  {
   "cell_type": "markdown",
   "id": "d8a90717",
   "metadata": {},
   "source": [
    "## 적용 코드"
   ]
  },
  {
   "cell_type": "code",
   "execution_count": 9,
   "id": "e7495a29",
   "metadata": {},
   "outputs": [
    {
     "name": "stderr",
     "output_type": "stream",
     "text": [
      "100%|███████████████████████████████████████████████████████████████████████████████████| 4/4 [00:00<00:00, 173.66it/s]"
     ]
    },
    {
     "name": "stdout",
     "output_type": "stream",
     "text": [
      "ta    0\n",
      "td    0\n",
      "hm    0\n",
      "ws    0\n",
      "dtype: int64\n"
     ]
    },
    {
     "name": "stderr",
     "output_type": "stream",
     "text": [
      "\n"
     ]
    }
   ],
   "source": [
    "# 기온 이슬점 습도 풍속 대치\n",
    "data2, mlist = mean_number(data, ['ta', 'td', 'hm', 'ws'])"
   ]
  },
  {
   "cell_type": "code",
   "execution_count": 10,
   "id": "7808714f",
   "metadata": {},
   "outputs": [
    {
     "name": "stderr",
     "output_type": "stream",
     "text": [
      "100%|████████████████████████████████████████████████████████████████████████████████████| 2/2 [00:00<00:00, 29.34it/s]\n"
     ]
    }
   ],
   "source": [
    "# 태양과 관련된 변수 대치\n",
    "data3, param_s = sun_power(data2, ['si', 'ss'], 'hh', 'sunriseh', 'sunseth', 'ww')"
   ]
  },
  {
   "cell_type": "code",
   "execution_count": 11,
   "id": "e20f8f16",
   "metadata": {},
   "outputs": [
    {
     "name": "stderr",
     "output_type": "stream",
     "text": [
      "100%|████████████████████████████████████████████████████████████████████████████████████| 2/2 [00:00<00:00, 20.20it/s]\n"
     ]
    }
   ],
   "source": [
    "# 비와 관련된 변수 대치\n",
    "data4, param_r = rain_power(data3, ['rn', 're'], 'ww')"
   ]
  },
  {
   "cell_type": "code",
   "execution_count": 12,
   "id": "bc52f0fd",
   "metadata": {},
   "outputs": [],
   "source": [
    "# 봄이므로 적설량 없다 취급\n",
    "data4['sn'][data4['sn'].isna()] = 0"
   ]
  },
  {
   "cell_type": "code",
   "execution_count": 13,
   "id": "a7ad726a",
   "metadata": {},
   "outputs": [
    {
     "data": {
      "text/plain": [
       "Index(['stn', 'year', 'ta', 'td', 'hm', 'ws', 'rn', 're', 'ww', 'ts', 'si',\n",
       "       'ss', 'sn', 'mm', 'dd', 'hh', 'sunriseh', 'sunrisem', 'sunseth',\n",
       "       'sunsetm'],\n",
       "      dtype='object')"
      ]
     },
     "execution_count": 13,
     "metadata": {},
     "output_type": "execute_result"
    }
   ],
   "source": [
    "data4.columns"
   ]
  },
  {
   "cell_type": "code",
   "execution_count": 14,
   "id": "50fde250",
   "metadata": {},
   "outputs": [],
   "source": [
    "# 이상치를 결측치로 전환과 동시에 Q1, Q2, Q3 값 뽑아주기\n",
    "# test 데이테에서 또한 사용해야함\n",
    "data5, Q1, Q2, Q3 = abnormal_data(data4, \"ts\", \"train\", 0, 0, 0)"
   ]
  },
  {
   "cell_type": "code",
   "execution_count": 15,
   "id": "d4382dc5",
   "metadata": {},
   "outputs": [],
   "source": [
    "# 시간단위를 분 단위로 바꿔주기(이 코드는 한번만 돌려야지 잘 적용된다.)\n",
    "data5['ss'] = round(data5['ss'] * 60)"
   ]
  },
  {
   "cell_type": "code",
   "execution_count": 16,
   "id": "49f1b3ff",
   "metadata": {},
   "outputs": [],
   "source": [
    "# 필요없는 변수 빼기\n",
    "data6 = data5[data5.columns.difference(['sunriseh', 'sunrisem', 'sunseth', 'sunsetm', 'ww', 'Unnamed: 0', 'sn'])]"
   ]
  },
  {
   "cell_type": "code",
   "execution_count": 17,
   "id": "8b92d219",
   "metadata": {},
   "outputs": [],
   "source": [
    "# 상관계수 절댓값 0.5이상과 p-value가 0.05이하인 변수만 선택\n",
    "# select_col = correlation_cal(data6, 'ts', list(data6.columns.difference(['ts'])))"
   ]
  },
  {
   "cell_type": "code",
   "execution_count": 18,
   "id": "00d14348",
   "metadata": {},
   "outputs": [],
   "source": [
    "# imputation 진행하기\n",
    "# 연도 제외시키기\n",
    "tmp = data6.drop(['year'],axis = 1)\n",
    "\n",
    "# mice, data7 = imputation_method(\"mice\", data6, select_col)\n",
    "# knn, data8 = imputation_method(\"knn\", data6, select_col)\n",
    "imputer_mice = IterativeImputer(random_state=42)\n",
    "imputer_mice.fit(tmp)\n",
    "\n",
    "# 데이터 변환 (array로 반환하기 때문에 필요에 맞는 형태로 변환 후 사용)\n",
    "tmp2 = pd.DataFrame(imputer_mice.transform(tmp), columns=tmp.columns)\n",
    "\n",
    "# 데이터에 mice한 값 집어넣기\n",
    "data6['ts'] = tmp2['ts']"
   ]
  },
  {
   "cell_type": "code",
   "execution_count": 19,
   "id": "c23980ae",
   "metadata": {},
   "outputs": [],
   "source": [
    "# 데이터 저장\n",
    "data6.to_csv('../data/fall_impute.csv', index = False)"
   ]
  },
  {
   "cell_type": "markdown",
   "id": "095e6c4e",
   "metadata": {},
   "source": [
    "==================================================================================================="
   ]
  },
  {
   "cell_type": "code",
   "execution_count": 20,
   "id": "764fee09",
   "metadata": {},
   "outputs": [],
   "source": [
    "# 계산식 활용해서 변수 추가\n",
    "data7 = data6.copy()"
   ]
  },
  {
   "cell_type": "code",
   "execution_count": 21,
   "id": "6aec47b9",
   "metadata": {},
   "outputs": [],
   "source": [
    "# 체감온도(℃)\n",
    "data7['sensory_temp'] = 13.12 + 0.6215*data7['ta'] - 11.37*(data7['ws']**0.16) + 0.3965*(data7['ws']**0.16)*(data7['ta'])"
   ]
  },
  {
   "cell_type": "code",
   "execution_count": 22,
   "id": "97f87bf9",
   "metadata": {},
   "outputs": [],
   "source": [
    "# 온도에 따른 포화 수증기압(mb)\n",
    "data7['vapor_pressure'] = 6.11*10**((7.5*data7['ta'])/(237.3 + data7['ta']))"
   ]
  },
  {
   "cell_type": "code",
   "execution_count": 23,
   "id": "77773006",
   "metadata": {},
   "outputs": [],
   "source": [
    "# 현재 대기의 수증기압(mb)\n",
    "data7['air_pressure'] = data7['hm'] * data7['vapor_pressure'] / 100"
   ]
  },
  {
   "cell_type": "code",
   "execution_count": 24,
   "id": "a7179495",
   "metadata": {},
   "outputs": [],
   "source": [
    "# 절대습도(g/m^3)\n",
    "data7['abs_hm'] = (0.794*data7['air_pressure'])/(1+0.00366*data7['ta'])"
   ]
  },
  {
   "cell_type": "code",
   "execution_count": 25,
   "id": "09243c4f",
   "metadata": {},
   "outputs": [],
   "source": [
    "# 공기중의 혼합비(mb)\n",
    "data7['air_mix'] = 0.622 * data7['air_pressure']/(1013.25 - data7['air_pressure'])"
   ]
  },
  {
   "cell_type": "code",
   "execution_count": 26,
   "id": "0b50d93b",
   "metadata": {},
   "outputs": [],
   "source": [
    "# 넷째자리까지 반올림해서 저장\n",
    "round(data7, 4).to_csv('../data/fall_new_value.csv', index = False)"
   ]
  },
  {
   "cell_type": "markdown",
   "id": "b98066a0",
   "metadata": {},
   "source": [
    "==================================================================================================="
   ]
  },
  {
   "cell_type": "markdown",
   "id": "16c8f5ad",
   "metadata": {},
   "source": [
    "- 여기부터"
   ]
  },
  {
   "cell_type": "code",
   "execution_count": 27,
   "id": "ad477bc2",
   "metadata": {},
   "outputs": [],
   "source": [
    "data['sun'] = 0\n",
    "data['sun'][data['ww'] == \"C\"] = 1"
   ]
  },
  {
   "cell_type": "code",
   "execution_count": 28,
   "id": "3db7c9dc",
   "metadata": {},
   "outputs": [],
   "source": [
    "data['rain'] = 0\n",
    "data['rain'][data['ww'] == \"R\"] = 2\n",
    "data['rain'][data['ww'].isin(['F', 'H'])] = 1"
   ]
  },
  {
   "cell_type": "code",
   "execution_count": 29,
   "id": "d196ff17",
   "metadata": {},
   "outputs": [],
   "source": [
    "data['si'][((data['hh'] < data['sunriseh']) | (data['hh'] > data['sunseth'])) & (data['si'].isna())] = 0\n",
    "data['ss'][((data['hh'] < data['sunriseh']) | (data['hh'] > data['sunseth'])) & (data['ss'].isna())] = 0"
   ]
  },
  {
   "cell_type": "code",
   "execution_count": 30,
   "id": "41c7223c",
   "metadata": {},
   "outputs": [],
   "source": [
    "# 첫번째 mice\n",
    "micedata = data[['ta', 'td', 'hm', 'ws', 'sun', 'rain', 'rn', 're', 'si', 'ss', 'mm', 'dd', 'hh']]"
   ]
  },
  {
   "cell_type": "code",
   "execution_count": 31,
   "id": "204b27ac",
   "metadata": {},
   "outputs": [],
   "source": [
    "# mice\n",
    "first_imputer_mice = IterativeImputer(random_state=42)\n",
    "first_imputer_mice.fit(micedata)\n",
    "\n",
    "# 데이터 변환 (array로 반환하기 때문에 필요에 맞는 형태로 변환 후 사용)\n",
    "micedata2 = pd.DataFrame(first_imputer_mice.transform(micedata), columns=micedata.columns)"
   ]
  },
  {
   "cell_type": "code",
   "execution_count": 32,
   "id": "2d66e189",
   "metadata": {},
   "outputs": [],
   "source": [
    "micedata2['ts'] = data['ts']"
   ]
  },
  {
   "cell_type": "code",
   "execution_count": 33,
   "id": "27b18b9e",
   "metadata": {
    "scrolled": true
   },
   "outputs": [],
   "source": [
    "# mice\n",
    "imputer_mice = IterativeImputer(random_state=42)\n",
    "imputer_mice.fit(micedata2)\n",
    "\n",
    "# 데이터 변환 (array로 반환하기 때문에 필요에 맞는 형태로 변환 후 사용)\n",
    "micedata3 = pd.DataFrame(imputer_mice.transform(micedata2), columns=micedata2.columns)"
   ]
  },
  {
   "cell_type": "code",
   "execution_count": 34,
   "id": "c7bfadde",
   "metadata": {},
   "outputs": [],
   "source": [
    "micedata3['year'] = data['year']\n",
    "micedata3['stn'] = data['stn']"
   ]
  },
  {
   "cell_type": "code",
   "execution_count": 35,
   "id": "dd977419",
   "metadata": {},
   "outputs": [],
   "source": [
    "# 체감온도(℃)\n",
    "# micedata3['sensory_temp'] = 13.12 + 0.6215*micedata3['ta'] - 11.37*(micedata3['ws']**0.16) + 0.3965*(micedata3['ws']**0.16)*(micedata3['ta'])"
   ]
  },
  {
   "cell_type": "code",
   "execution_count": 36,
   "id": "5257f373",
   "metadata": {},
   "outputs": [],
   "source": [
    "# 온도에 따른 포화 수증기압(mb)\n",
    "# micedata3['vapor_pressure'] = 6.11*10**((7.5*micedata3['ta'])/(237.3 + micedata3['ta']))"
   ]
  },
  {
   "cell_type": "code",
   "execution_count": 37,
   "id": "52e6b645",
   "metadata": {},
   "outputs": [],
   "source": [
    "# 현재 대기의 수증기압(mb)\n",
    "# micedata3['air_pressure'] = micedata3['hm'] * micedata3['vapor_pressure'] / 100"
   ]
  },
  {
   "cell_type": "code",
   "execution_count": 38,
   "id": "9b7ff781",
   "metadata": {},
   "outputs": [],
   "source": [
    "# 절대습도(g/m^3)\n",
    "# micedata3['abs_hm'] = (0.794*micedata3['air_pressure'])/(1+0.00366*micedata3['ta'])"
   ]
  },
  {
   "cell_type": "code",
   "execution_count": 39,
   "id": "d7164b4b",
   "metadata": {},
   "outputs": [],
   "source": [
    "# 공기중의 혼합비(mb)\n",
    "# micedata3['air_mix'] = 0.622 * micedata3['air_pressure']/(1013.25 - micedata3['air_pressure'])"
   ]
  },
  {
   "cell_type": "code",
   "execution_count": 40,
   "id": "cb747068",
   "metadata": {},
   "outputs": [
    {
     "data": {
      "text/html": [
       "<div>\n",
       "<style scoped>\n",
       "    .dataframe tbody tr th:only-of-type {\n",
       "        vertical-align: middle;\n",
       "    }\n",
       "\n",
       "    .dataframe tbody tr th {\n",
       "        vertical-align: top;\n",
       "    }\n",
       "\n",
       "    .dataframe thead th {\n",
       "        text-align: right;\n",
       "    }\n",
       "</style>\n",
       "<table border=\"1\" class=\"dataframe\">\n",
       "  <thead>\n",
       "    <tr style=\"text-align: right;\">\n",
       "      <th></th>\n",
       "      <th>dd</th>\n",
       "      <th>hh</th>\n",
       "      <th>hm</th>\n",
       "      <th>mm</th>\n",
       "      <th>re</th>\n",
       "      <th>rn</th>\n",
       "      <th>si</th>\n",
       "      <th>ss</th>\n",
       "      <th>stn</th>\n",
       "      <th>ta</th>\n",
       "      <th>td</th>\n",
       "      <th>ts</th>\n",
       "      <th>ws</th>\n",
       "      <th>year</th>\n",
       "    </tr>\n",
       "  </thead>\n",
       "  <tbody>\n",
       "    <tr>\n",
       "      <th>0</th>\n",
       "      <td>1.0</td>\n",
       "      <td>0.0</td>\n",
       "      <td>99.6</td>\n",
       "      <td>8.0</td>\n",
       "      <td>0.0</td>\n",
       "      <td>0.0</td>\n",
       "      <td>0.0</td>\n",
       "      <td>0.0</td>\n",
       "      <td>1</td>\n",
       "      <td>24.2</td>\n",
       "      <td>24.1</td>\n",
       "      <td>24.0</td>\n",
       "      <td>0.8</td>\n",
       "      <td>A</td>\n",
       "    </tr>\n",
       "    <tr>\n",
       "      <th>1</th>\n",
       "      <td>1.0</td>\n",
       "      <td>1.0</td>\n",
       "      <td>99.6</td>\n",
       "      <td>8.0</td>\n",
       "      <td>0.0</td>\n",
       "      <td>0.0</td>\n",
       "      <td>0.0</td>\n",
       "      <td>0.0</td>\n",
       "      <td>1</td>\n",
       "      <td>24.0</td>\n",
       "      <td>24.0</td>\n",
       "      <td>24.0</td>\n",
       "      <td>0.6</td>\n",
       "      <td>A</td>\n",
       "    </tr>\n",
       "    <tr>\n",
       "      <th>2</th>\n",
       "      <td>1.0</td>\n",
       "      <td>2.0</td>\n",
       "      <td>99.9</td>\n",
       "      <td>8.0</td>\n",
       "      <td>0.0</td>\n",
       "      <td>0.0</td>\n",
       "      <td>0.0</td>\n",
       "      <td>0.0</td>\n",
       "      <td>1</td>\n",
       "      <td>23.8</td>\n",
       "      <td>23.8</td>\n",
       "      <td>23.8</td>\n",
       "      <td>0.7</td>\n",
       "      <td>A</td>\n",
       "    </tr>\n",
       "    <tr>\n",
       "      <th>3</th>\n",
       "      <td>1.0</td>\n",
       "      <td>3.0</td>\n",
       "      <td>99.8</td>\n",
       "      <td>8.0</td>\n",
       "      <td>0.0</td>\n",
       "      <td>0.0</td>\n",
       "      <td>0.0</td>\n",
       "      <td>0.0</td>\n",
       "      <td>1</td>\n",
       "      <td>23.7</td>\n",
       "      <td>23.7</td>\n",
       "      <td>23.8</td>\n",
       "      <td>0.7</td>\n",
       "      <td>A</td>\n",
       "    </tr>\n",
       "    <tr>\n",
       "      <th>4</th>\n",
       "      <td>1.0</td>\n",
       "      <td>4.0</td>\n",
       "      <td>99.6</td>\n",
       "      <td>8.0</td>\n",
       "      <td>0.0</td>\n",
       "      <td>0.0</td>\n",
       "      <td>0.0</td>\n",
       "      <td>0.0</td>\n",
       "      <td>1</td>\n",
       "      <td>23.8</td>\n",
       "      <td>23.7</td>\n",
       "      <td>23.9</td>\n",
       "      <td>0.6</td>\n",
       "      <td>A</td>\n",
       "    </tr>\n",
       "    <tr>\n",
       "      <th>...</th>\n",
       "      <td>...</td>\n",
       "      <td>...</td>\n",
       "      <td>...</td>\n",
       "      <td>...</td>\n",
       "      <td>...</td>\n",
       "      <td>...</td>\n",
       "      <td>...</td>\n",
       "      <td>...</td>\n",
       "      <td>...</td>\n",
       "      <td>...</td>\n",
       "      <td>...</td>\n",
       "      <td>...</td>\n",
       "      <td>...</td>\n",
       "      <td>...</td>\n",
       "    </tr>\n",
       "    <tr>\n",
       "      <th>110212</th>\n",
       "      <td>31.0</td>\n",
       "      <td>19.0</td>\n",
       "      <td>63.7</td>\n",
       "      <td>10.0</td>\n",
       "      <td>0.0</td>\n",
       "      <td>0.0</td>\n",
       "      <td>0.0</td>\n",
       "      <td>0.0</td>\n",
       "      <td>10</td>\n",
       "      <td>17.9</td>\n",
       "      <td>10.9</td>\n",
       "      <td>15.9</td>\n",
       "      <td>1.4</td>\n",
       "      <td>E</td>\n",
       "    </tr>\n",
       "    <tr>\n",
       "      <th>110213</th>\n",
       "      <td>31.0</td>\n",
       "      <td>20.0</td>\n",
       "      <td>67.1</td>\n",
       "      <td>10.0</td>\n",
       "      <td>0.0</td>\n",
       "      <td>0.0</td>\n",
       "      <td>0.0</td>\n",
       "      <td>0.0</td>\n",
       "      <td>10</td>\n",
       "      <td>17.1</td>\n",
       "      <td>11.0</td>\n",
       "      <td>15.0</td>\n",
       "      <td>2.3</td>\n",
       "      <td>E</td>\n",
       "    </tr>\n",
       "    <tr>\n",
       "      <th>110214</th>\n",
       "      <td>31.0</td>\n",
       "      <td>21.0</td>\n",
       "      <td>68.9</td>\n",
       "      <td>10.0</td>\n",
       "      <td>0.0</td>\n",
       "      <td>0.0</td>\n",
       "      <td>0.0</td>\n",
       "      <td>0.0</td>\n",
       "      <td>10</td>\n",
       "      <td>16.8</td>\n",
       "      <td>11.0</td>\n",
       "      <td>14.5</td>\n",
       "      <td>2.7</td>\n",
       "      <td>E</td>\n",
       "    </tr>\n",
       "    <tr>\n",
       "      <th>110215</th>\n",
       "      <td>31.0</td>\n",
       "      <td>22.0</td>\n",
       "      <td>69.5</td>\n",
       "      <td>10.0</td>\n",
       "      <td>0.0</td>\n",
       "      <td>0.0</td>\n",
       "      <td>0.0</td>\n",
       "      <td>0.0</td>\n",
       "      <td>10</td>\n",
       "      <td>16.0</td>\n",
       "      <td>10.4</td>\n",
       "      <td>14.0</td>\n",
       "      <td>2.4</td>\n",
       "      <td>E</td>\n",
       "    </tr>\n",
       "    <tr>\n",
       "      <th>110216</th>\n",
       "      <td>31.0</td>\n",
       "      <td>23.0</td>\n",
       "      <td>71.9</td>\n",
       "      <td>10.0</td>\n",
       "      <td>0.0</td>\n",
       "      <td>0.0</td>\n",
       "      <td>0.0</td>\n",
       "      <td>0.0</td>\n",
       "      <td>10</td>\n",
       "      <td>15.5</td>\n",
       "      <td>10.5</td>\n",
       "      <td>13.6</td>\n",
       "      <td>2.0</td>\n",
       "      <td>E</td>\n",
       "    </tr>\n",
       "  </tbody>\n",
       "</table>\n",
       "<p>110217 rows × 14 columns</p>\n",
       "</div>"
      ],
      "text/plain": [
       "          dd    hh    hm    mm   re   rn   si   ss  stn    ta    td    ts  \\\n",
       "0        1.0   0.0  99.6   8.0  0.0  0.0  0.0  0.0    1  24.2  24.1  24.0   \n",
       "1        1.0   1.0  99.6   8.0  0.0  0.0  0.0  0.0    1  24.0  24.0  24.0   \n",
       "2        1.0   2.0  99.9   8.0  0.0  0.0  0.0  0.0    1  23.8  23.8  23.8   \n",
       "3        1.0   3.0  99.8   8.0  0.0  0.0  0.0  0.0    1  23.7  23.7  23.8   \n",
       "4        1.0   4.0  99.6   8.0  0.0  0.0  0.0  0.0    1  23.8  23.7  23.9   \n",
       "...      ...   ...   ...   ...  ...  ...  ...  ...  ...   ...   ...   ...   \n",
       "110212  31.0  19.0  63.7  10.0  0.0  0.0  0.0  0.0   10  17.9  10.9  15.9   \n",
       "110213  31.0  20.0  67.1  10.0  0.0  0.0  0.0  0.0   10  17.1  11.0  15.0   \n",
       "110214  31.0  21.0  68.9  10.0  0.0  0.0  0.0  0.0   10  16.8  11.0  14.5   \n",
       "110215  31.0  22.0  69.5  10.0  0.0  0.0  0.0  0.0   10  16.0  10.4  14.0   \n",
       "110216  31.0  23.0  71.9  10.0  0.0  0.0  0.0  0.0   10  15.5  10.5  13.6   \n",
       "\n",
       "         ws year  \n",
       "0       0.8    A  \n",
       "1       0.6    A  \n",
       "2       0.7    A  \n",
       "3       0.7    A  \n",
       "4       0.6    A  \n",
       "...     ...  ...  \n",
       "110212  1.4    E  \n",
       "110213  2.3    E  \n",
       "110214  2.7    E  \n",
       "110215  2.4    E  \n",
       "110216  2.0    E  \n",
       "\n",
       "[110217 rows x 14 columns]"
      ]
     },
     "execution_count": 40,
     "metadata": {},
     "output_type": "execute_result"
    }
   ],
   "source": [
    "micedata3[micedata3.columns.difference(['sun', 'rain'])]"
   ]
  },
  {
   "cell_type": "code",
   "execution_count": 41,
   "id": "fa4ee95c",
   "metadata": {},
   "outputs": [],
   "source": [
    "# 넷째자리까지 반올림해서 저장\n",
    "round(micedata3[micedata3.columns.difference(['sun', 'rain'])], 4).to_csv('../data/fall_mice_twice_train.csv', index = False)"
   ]
  },
  {
   "cell_type": "markdown",
   "id": "fd48ec4c",
   "metadata": {},
   "source": [
    "## Test data"
   ]
  },
  {
   "cell_type": "code",
   "execution_count": 42,
   "id": "fb604924",
   "metadata": {},
   "outputs": [
    {
     "name": "stderr",
     "output_type": "stream",
     "text": [
      "100%|███████████████████████████████████████████████████████████████████████████████████| 4/4 [00:00<00:00, 227.53it/s]\n"
     ]
    }
   ],
   "source": [
    "# 값 대치\n",
    "for name in tqdm.tqdm(['ta', 'td', 'hm', 'ws']):\n",
    "        test_data[name][test_data[name].isna()] = mlist[name]"
   ]
  },
  {
   "cell_type": "code",
   "execution_count": 43,
   "id": "e3bc90ef",
   "metadata": {},
   "outputs": [
    {
     "name": "stderr",
     "output_type": "stream",
     "text": [
      "100%|███████████████████████████████████████████████████████████████████████████████████| 2/2 [00:00<00:00, 137.00it/s]\n"
     ]
    }
   ],
   "source": [
    "# 태양관련 변수 대입\n",
    "for name in tqdm.tqdm(['si', 'ss']):\n",
    "    conditions = [\n",
    "        test_data[name].notnull(),\n",
    "        ((test_data['hh'] < test_data['sunriseh']) | (test_data['hh'] > test_data['sunseth'])),\n",
    "        (test_data['sunriseh'] <= test_data['hh']) & (test_data['hh'] <= test_data['sunseth']) & (test_data['ww'].isin(['C'])),\n",
    "        (test_data['sunriseh'] <= test_data['hh']) & (test_data['hh'] <= test_data['sunseth']) & (~test_data['ww'].isin(['C']))\n",
    "    ]\n",
    "    param_s[0] = test_data[name]\n",
    "    test_data[name] = np.select(conditions, param_s)"
   ]
  },
  {
   "cell_type": "code",
   "execution_count": 44,
   "id": "89cdbc61",
   "metadata": {},
   "outputs": [
    {
     "name": "stderr",
     "output_type": "stream",
     "text": [
      "100%|███████████████████████████████████████████████████████████████████████████████████| 2/2 [00:00<00:00, 219.56it/s]\n"
     ]
    }
   ],
   "source": [
    "# 비 관련 변수 대입\n",
    "for name in tqdm.tqdm(['rn', 're']):\n",
    "    conditions = [\n",
    "        test_data[name].notnull(),\n",
    "        (test_data['ww'].isin(['R'])),\n",
    "        (test_data['ww'].isin(['F', 'H'])),\n",
    "        (~test_data['ww'].isin(['R', 'F', 'H'])),\n",
    "    ]\n",
    "    param_r[0] = test_data[name]\n",
    "    test_data[name] = np.select(conditions, param_r)"
   ]
  },
  {
   "cell_type": "code",
   "execution_count": 45,
   "id": "4732727b",
   "metadata": {},
   "outputs": [],
   "source": [
    "# 적설량 0으로 통일\n",
    "# 여름이므로 적설량 없다 취급\n",
    "test_data['sn'][test_data['sn'].isna()] = 0"
   ]
  },
  {
   "cell_type": "code",
   "execution_count": 46,
   "id": "774fc6fb",
   "metadata": {},
   "outputs": [],
   "source": [
    "# 시간단위를 분 단위로 바꿔주기(이 코드는 한번만 돌려야지 잘 적용된다.)\n",
    "test_data['ss'] = round(test_data['ss'] * 60)"
   ]
  },
  {
   "cell_type": "code",
   "execution_count": 47,
   "id": "a980f844",
   "metadata": {},
   "outputs": [],
   "source": [
    "# 필요없는 변수 빼기\n",
    "test_data2 = test_data[test_data.columns.difference(['sunriseh', 'sunrisem', 'sunseth', 'sunsetm', 'ww'])]"
   ]
  },
  {
   "cell_type": "code",
   "execution_count": 48,
   "id": "b12e1e2f",
   "metadata": {},
   "outputs": [],
   "source": [
    "# 데이터 저장\n",
    "test_data2.to_csv('../data/fall_test_complete.csv', index = False)"
   ]
  },
  {
   "cell_type": "markdown",
   "id": "e04532be",
   "metadata": {},
   "source": [
    "==================================================================================================="
   ]
  },
  {
   "cell_type": "code",
   "execution_count": 49,
   "id": "71c596b0",
   "metadata": {},
   "outputs": [],
   "source": [
    "# test\n",
    "test_data3 = test_data2.copy()"
   ]
  },
  {
   "cell_type": "code",
   "execution_count": 50,
   "id": "e7358c27",
   "metadata": {},
   "outputs": [],
   "source": [
    "# 체감온도(℃)\n",
    "test_data3['sensory_temp'] = 13.12 + 0.6215*test_data3['ta'] - 11.37*(test_data3['ws']**0.16) + 0.3965*(test_data3['ws']**0.16)*(test_data3['ta'])"
   ]
  },
  {
   "cell_type": "code",
   "execution_count": 51,
   "id": "f2375009",
   "metadata": {},
   "outputs": [],
   "source": [
    "# 온도에 따른 포화 수증기압(mb)\n",
    "test_data3['vapor_pressure'] = 6.11*10**((7.5*test_data3['ta'])/(237.3 + test_data3['ta']))"
   ]
  },
  {
   "cell_type": "code",
   "execution_count": 52,
   "id": "0141d429",
   "metadata": {},
   "outputs": [],
   "source": [
    "# 현재 대기의 수증기압(mb)\n",
    "test_data3['air_pressure'] = test_data3['hm'] * test_data3['vapor_pressure'] / 100"
   ]
  },
  {
   "cell_type": "code",
   "execution_count": 53,
   "id": "4ef08f79",
   "metadata": {},
   "outputs": [],
   "source": [
    "# 절대습도(g/m^3)\n",
    "test_data3['abs_hm'] = (0.794*test_data3['air_pressure'])/(1+0.00366*test_data3['ta'])"
   ]
  },
  {
   "cell_type": "code",
   "execution_count": 54,
   "id": "f4857742",
   "metadata": {},
   "outputs": [],
   "source": [
    "# 공기중의 혼합비(mb)\n",
    "test_data3['air_mix'] = 0.622 * test_data3['air_pressure']/(1013.25 - test_data3['air_pressure'])"
   ]
  },
  {
   "cell_type": "code",
   "execution_count": 55,
   "id": "4685834f",
   "metadata": {},
   "outputs": [],
   "source": [
    "# 넷째자리까지 반올림해서 저장\n",
    "round(test_data3, 4).to_csv('../data/fall_new_test_value.csv', index = False)"
   ]
  },
  {
   "cell_type": "markdown",
   "id": "a138ba46",
   "metadata": {},
   "source": [
    "==================================================================================================="
   ]
  },
  {
   "cell_type": "code",
   "execution_count": 56,
   "id": "a28bb73b",
   "metadata": {},
   "outputs": [],
   "source": [
    "test['sun'] = 0\n",
    "test['sun'][test['ww'] == \"C\"] = 1"
   ]
  },
  {
   "cell_type": "code",
   "execution_count": 57,
   "id": "352000af",
   "metadata": {},
   "outputs": [],
   "source": [
    "test['rain'] = 0\n",
    "test['rain'][test['ww'] == \"R\"] = 2\n",
    "test['rain'][test['ww'].isin(['F', 'H'])] = 1"
   ]
  },
  {
   "cell_type": "code",
   "execution_count": 58,
   "id": "9a69ee06",
   "metadata": {},
   "outputs": [],
   "source": [
    "# 첫번째 mice\n",
    "testmicedata = test[['ta', 'td', 'hm', 'ws', 'sun', 'rain', 'rn', 're', 'si', 'ss', 'mm', 'dd', 'hh']]"
   ]
  },
  {
   "cell_type": "code",
   "execution_count": 59,
   "id": "3163d738",
   "metadata": {},
   "outputs": [],
   "source": [
    "testmicedata2 = pd.DataFrame(first_imputer_mice.transform(testmicedata), columns=testmicedata.columns)"
   ]
  },
  {
   "cell_type": "code",
   "execution_count": 60,
   "id": "72fd9832",
   "metadata": {},
   "outputs": [],
   "source": [
    "testmicedata2['year'] = test['year']\n",
    "testmicedata2['stn'] = test['stn']"
   ]
  },
  {
   "cell_type": "code",
   "execution_count": 61,
   "id": "2b7fda7f",
   "metadata": {},
   "outputs": [],
   "source": [
    "testmicedata3 = testmicedata2[testmicedata2.columns.difference(['sun', 'rain'])]"
   ]
  },
  {
   "cell_type": "code",
   "execution_count": 62,
   "id": "cc6ce973",
   "metadata": {},
   "outputs": [],
   "source": [
    "# 체감온도(℃)\n",
    "# testmicedata2['sensory_temp'] = 13.12 + 0.6215*testmicedata2['ta'] - 11.37*(testmicedata2['ws']**0.16) + 0.3965*(testmicedata2['ws']**0.16)*(testmicedata2['ta'])"
   ]
  },
  {
   "cell_type": "code",
   "execution_count": 63,
   "id": "fd6017b3",
   "metadata": {},
   "outputs": [],
   "source": [
    "# 온도에 따른 포화 수증기압(mb)\n",
    "# testmicedata2['vapor_pressure'] = 6.11*10**((7.5*testmicedata2['ta'])/(237.3 + testmicedata2['ta']))"
   ]
  },
  {
   "cell_type": "code",
   "execution_count": 64,
   "id": "fe826bf0",
   "metadata": {},
   "outputs": [],
   "source": [
    "# 현재 대기의 수증기압(mb)\n",
    "# testmicedata2['air_pressure'] = testmicedata2['hm'] * testmicedata2['vapor_pressure'] / 100"
   ]
  },
  {
   "cell_type": "code",
   "execution_count": 65,
   "id": "33e14691",
   "metadata": {},
   "outputs": [],
   "source": [
    "# 절대습도(g/m^3)\n",
    "# testmicedata2['abs_hm'] = (0.794*testmicedata2['air_pressure'])/(1+0.00366*testmicedata2['ta'])"
   ]
  },
  {
   "cell_type": "code",
   "execution_count": 66,
   "id": "42eafe65",
   "metadata": {},
   "outputs": [],
   "source": [
    "# 공기중의 혼합비(mb)\n",
    "# testmicedata2['air_mix'] = 0.622 * testmicedata2['air_pressure']/(1013.25 - testmicedata2['air_pressure'])"
   ]
  },
  {
   "cell_type": "code",
   "execution_count": 67,
   "id": "83eeeb2b",
   "metadata": {},
   "outputs": [],
   "source": [
    "# 넷째자리까지 반올림해서 저장\n",
    "round(testmicedata2, 4).to_csv('../data/fall_mice_twice_test.csv', index = False)"
   ]
  }
 ],
 "metadata": {
  "kernelspec": {
   "display_name": "please",
   "language": "python",
   "name": "please"
  },
  "language_info": {
   "codemirror_mode": {
    "name": "ipython",
    "version": 3
   },
   "file_extension": ".py",
   "mimetype": "text/x-python",
   "name": "python",
   "nbconvert_exporter": "python",
   "pygments_lexer": "ipython3",
   "version": "3.7.13"
  }
 },
 "nbformat": 4,
 "nbformat_minor": 5
}
