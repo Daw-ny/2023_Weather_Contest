{
 "cells": [
  {
   "cell_type": "markdown",
   "id": "ae497ed4",
   "metadata": {},
   "source": [
    "# AutoML을 활용한 모델링"
   ]
  },
  {
   "cell_type": "code",
   "execution_count": 1,
   "id": "aada3393",
   "metadata": {},
   "outputs": [],
   "source": [
    "# preprocessing\n",
    "import numpy as np\n",
    "import pandas as pd\n",
    "import tqdm\n",
    "from scipy import stats\n",
    "\n",
    "# imputer\n",
    "from sklearn.impute import KNNImputer\n",
    "from sklearn.experimental import enable_iterative_imputer\n",
    "from sklearn.impute import IterativeImputer\n",
    "\n",
    "# 경고 무시\n",
    "import warnings\n",
    "warnings.filterwarnings('ignore')\n",
    "\n",
    "# model learning\n",
    "from sklearn.model_selection import train_test_split\n",
    "from supervised.automl import AutoML\n",
    "from sklearn.utils.class_weight import compute_sample_weight\n",
    "\n",
    "# 평가 지표\n",
    "from sklearn.metrics import mean_absolute_error\n",
    "\n",
    "# 모델 저장\n",
    "import pickle"
   ]
  },
  {
   "cell_type": "code",
   "execution_count": 2,
   "id": "da841624",
   "metadata": {},
   "outputs": [],
   "source": [
    "# load data\n",
    "data = pd.read_csv('../data/summer_mice_twice_train.csv')\n",
    "test = pd.read_csv('../data/summer_mice_twice_test.csv')"
   ]
  },
  {
   "cell_type": "code",
   "execution_count": 3,
   "id": "03c27c02",
   "metadata": {},
   "outputs": [],
   "source": [
    "# split the train & valid data\n",
    "X_train, X_valid, y_train, y_valid = train_test_split(\n",
    "    data[data.columns.difference(['ts', 'stn', 'year'])],\n",
    "    data['ts'],\n",
    "    test_size=0.3,\n",
    "    random_state=42,\n",
    ")"
   ]
  },
  {
   "cell_type": "code",
   "execution_count": 4,
   "id": "69c959d7",
   "metadata": {},
   "outputs": [],
   "source": [
    "# automl modeling\n",
    "automl = AutoML(mode=\"Compete\",\n",
    "                algorithms=[\"Baseline\",\n",
    "                            \"CatBoost\",\n",
    "                            \"Xgboost\",\n",
    "                            \"Random Forest\",\n",
    "                            \"Extra Trees\",\n",
    "                            \"LightGBM\",\n",
    "                            \"Neural Network\",\n",
    "                            \"CatBoost\"],\n",
    "                ml_task = \"regression\",\n",
    "                eval_metric = \"mae\",\n",
    "                random_state = 42\n",
    "               )"
   ]
  },
  {
   "cell_type": "markdown",
   "id": "4ccf3297",
   "metadata": {},
   "source": [
    "- `Explain` : To to be used when the user wants to explain and understand the data.\n",
    "                    - Uses 75%/25% train/test split.\n",
    "                    - Uses the following models: `Baseline`, `Linear`, `Decision Tree`, `Random Forest`, `XGBoost`, `Neural Network`, and `Ensemble`.\n",
    "                    - Has full explanations in reports: learning curves, importance plots, and SHAP plots.\n",
    "                    \n",
    "- `Perform` : To be used when the user wants to train a model that will be used in real-life use cases.\n",
    "                    - Uses 5-fold CV (Cross-Validation).\n",
    "                    - Uses the following models: `Linear`, `Random Forest`, `LightGBM`, `XGBoost`, `CatBoost`, `Neural Network`, and `Ensemble`.\n",
    "                    - Has learning curves and importance plots in reports.\n",
    "\n",
    "- `Compete` : To be used for machine learning competitions (maximum performance).\n",
    "                    - Uses 80/20 train/test split, or 5-fold CV, or 10-fold CV (Cross-Validation) - it depends on `total_time_limit`. If not set directly, AutoML will select validation automatically.\n",
    "                    - Uses the following models: `Decision Tree`, `Random Forest`, `Extra Trees`, `LightGBM`,  `XGBoost`, `CatBoost`, `Neural Network`,\n",
    "                        `Nearest Neighbors`, `Ensemble`, and `Stacking`.\n",
    "                    - It has only learning curves in the reports.\n",
    "\n",
    "- `Optuna` : To be used for creating highly-tuned machine learning models.\n",
    "                    - Uses 10-fold CV (Cross-Validation).\n",
    "                    - It tunes with Optuna the following algorithms: `Random Forest`, `Extra Trees`, `LightGBM`, `XGBoost`, `CatBoost`, `Neural Network`.\n",
    "                    - It applies `Ensemble` and `Stacking` for trained models.\n",
    "                    - It has only learning curves in the reports."
   ]
  },
  {
   "cell_type": "code",
   "execution_count": 5,
   "id": "da19f2a4",
   "metadata": {
    "scrolled": false
   },
   "outputs": [
    {
     "name": "stdout",
     "output_type": "stream",
     "text": [
      "AutoML directory: AutoML_19\n",
      "The task is regression with evaluation metric mae\n",
      "AutoML will use algorithms: ['Baseline', 'CatBoost', 'Xgboost', 'Random Forest', 'Extra Trees', 'LightGBM', 'Neural Network', 'CatBoost']\n",
      "AutoML will stack models\n",
      "AutoML will ensemble available models\n",
      "AutoML steps: ['adjust_validation', 'simple_algorithms', 'default_algorithms', 'not_so_random', 'golden_features', 'kmeans_features', 'insert_random_feature', 'features_selection', 'hill_climbing_1', 'hill_climbing_2', 'boost_on_errors', 'ensemble', 'stack', 'ensemble_stacked']\n",
      "* Step adjust_validation will try to check up to 1 model\n",
      "1_DecisionTree mae 2.68495 trained in 0.64 seconds\n",
      "Adjust validation. Remove: 1_DecisionTree\n",
      "Validation strategy: 10-fold CV Shuffle\n",
      "* Step simple_algorithms will try to check up to 1 model\n",
      "1_Baseline mae 7.087233 trained in 2.2 seconds\n",
      "* Step default_algorithms will try to check up to 6 models\n",
      "2_Default_LightGBM mae 1.552603 trained in 103.81 seconds\n",
      "3_Default_Xgboost mae 1.603158 trained in 92.2 seconds\n",
      "4_Default_CatBoost mae 1.595291 trained in 233.76 seconds\n",
      "5_Default_NeuralNetwork mae 1.844053 trained in 68.96 seconds\n",
      "6_Default_RandomForest mae 2.468842 trained in 81.58 seconds\n",
      "7_Default_ExtraTrees mae 2.356012 trained in 43.24 seconds\n",
      "* Step not_so_random will try to check up to 54 models\n",
      "17_LightGBM mae 1.574064 trained in 57.75 seconds\n",
      "8_Xgboost mae 1.592426 trained in 61.48 seconds\n",
      "26_CatBoost mae 1.57816 trained in 273.97 seconds\n",
      "35_RandomForest mae 2.515052 trained in 77.13 seconds\n",
      "44_ExtraTrees mae 2.31084 trained in 30.53 seconds\n",
      "53_NeuralNetwork mae 2.406603 trained in 55.3 seconds\n",
      "18_LightGBM mae 1.606846 trained in 59.28 seconds\n",
      "9_Xgboost mae 1.655015 trained in 41.1 seconds\n",
      "27_CatBoost mae 1.606153 trained in 142.32 seconds\n",
      "36_RandomForest mae 2.002152 trained in 79.14 seconds\n",
      "45_ExtraTrees mae 2.097017 trained in 30.74 seconds\n",
      "54_NeuralNetwork mae 1.837373 trained in 75.09 seconds\n",
      "19_LightGBM mae 1.574155 trained in 110.56 seconds\n",
      "10_Xgboost mae 1.570107 trained in 109.45 seconds\n",
      "* Step golden_features will try to check up to 3 models\n",
      "None 10\n",
      "Add Golden Feature: ta_sum_si\n",
      "Add Golden Feature: si_sum_sensory_temp\n",
      "Add Golden Feature: vapor_pressure_sum_si\n",
      "Add Golden Feature: ta_sum_ss\n",
      "Add Golden Feature: vapor_pressure_sum_ss\n",
      "Add Golden Feature: ss_sum_sensory_temp\n",
      "Add Golden Feature: mm_diff_ta\n",
      "Add Golden Feature: mm_diff_vapor_pressure\n",
      "Add Golden Feature: ws_sum_vapor_pressure\n",
      "Add Golden Feature: air_mix_diff_ta\n",
      "Created 10 Golden Features in 15.53 seconds.\n",
      "2_Default_LightGBM_GoldenFeatures mae 1.562494 trained in 140.07 seconds\n",
      "* Step kmeans_features will try to check up to 3 models\n",
      "2_Default_LightGBM_KMeansFeatures mae 1.560559 trained in 150.0 seconds\n",
      "Not enough time to perform features selection. Skip\n",
      "Time needed for features selection ~ 782.0 seconds\n",
      "Please increase total_time_limit to at least (7884 seconds) to have features selection\n",
      "Skip insert_random_feature because no parameters were generated.\n",
      "Skip features_selection because no parameters were generated.\n",
      "* Step hill_climbing_1 will try to check up to 30 models\n",
      "55_LightGBM mae 1.563866 trained in 59.48 seconds\n",
      "56_LightGBM mae 1.572544 trained in 89.3 seconds\n",
      "57_LightGBM_GoldenFeatures mae 1.572742 trained in 65.16 seconds\n",
      "58_Xgboost mae 1.579725 trained in 111.15 seconds\n",
      "59_CatBoost mae 1.574258 trained in 505.82 seconds\n",
      "Skip hill_climbing_2 because of the time limit.\n",
      "* Step boost_on_errors will try to check up to 1 model\n",
      "2_Default_LightGBM_BoostOnErrors mae 1.554426 trained in 113.84 seconds\n",
      "* Step ensemble will try to check up to 1 model\n",
      "Ensemble mae 1.528847 trained in 3.02 seconds\n",
      "* Step stack will try to check up to 27 models\n",
      "2_Default_LightGBM_Stacked mae 1.529086 trained in 23.5 seconds\n",
      "10_Xgboost_Stacked mae 1.531975 trained in 44.81 seconds\n",
      "59_CatBoost_Stacked mae 1.534946 trained in 161.41 seconds\n",
      "54_NeuralNetwork_Stacked mae 6.935101 trained in 48.95 seconds\n",
      "36_RandomForest_Stacked not trained. Stop training after the first fold. Time needed to train on the first fold 27.0 seconds. The time estimate for training on all folds is larger than total_time_limit.\n",
      "45_ExtraTrees_Stacked mae 1.536884 trained in 102.94 seconds\n",
      "2_Default_LightGBM_KMeansFeatures_Stacked mae 1.532222 trained in 42.84 seconds\n",
      "58_Xgboost_Stacked mae 1.530175 trained in 40.37 seconds\n",
      "* Step ensemble_stacked will try to check up to 1 model\n",
      "Ensemble_Stacked mae 1.523915 trained in 4.92 seconds\n",
      "AutoML fit time: 3627.21 seconds\n",
      "AutoML best model: Ensemble_Stacked\n"
     ]
    },
    {
     "data": {
      "text/plain": [
       "AutoML(algorithms=['Baseline', 'CatBoost', 'Xgboost', 'Random Forest',\n",
       "                   'Extra Trees', 'LightGBM', 'Neural Network', 'CatBoost'],\n",
       "       eval_metric='mae', ml_task='regression', mode='Compete',\n",
       "       random_state=42)"
      ]
     },
     "execution_count": 5,
     "metadata": {},
     "output_type": "execute_result"
    }
   ],
   "source": [
    "# fit automl mljar\n",
    "automl.fit(X_train, y_train)"
   ]
  },
  {
   "cell_type": "code",
   "execution_count": 6,
   "id": "ee02b3d6",
   "metadata": {},
   "outputs": [],
   "source": [
    "# predict\n",
    "automl_pred = automl.predict(X_valid)"
   ]
  },
  {
   "cell_type": "code",
   "execution_count": 7,
   "id": "43be2f08",
   "metadata": {
    "scrolled": true
   },
   "outputs": [
    {
     "data": {
      "text/plain": [
       "1.518110842907827"
      ]
     },
     "execution_count": 7,
     "metadata": {},
     "output_type": "execute_result"
    }
   ],
   "source": [
    "# MAE값 구하기\n",
    "mean_absolute_error(y_valid, automl_pred)"
   ]
  },
  {
   "cell_type": "code",
   "execution_count": 8,
   "id": "3af9d0a0",
   "metadata": {},
   "outputs": [],
   "source": [
    "# testset의 예측값 구하기\n",
    "# pred_test = automl.predict(test[test.columns.difference(['stn'])])\n",
    "pred_test = automl.predict(test)"
   ]
  },
  {
   "cell_type": "code",
   "execution_count": 9,
   "id": "bea3463a",
   "metadata": {},
   "outputs": [],
   "source": [
    "# 값 가져오기\n",
    "test_result = test.copy()"
   ]
  },
  {
   "cell_type": "code",
   "execution_count": 10,
   "id": "93b192b4",
   "metadata": {},
   "outputs": [],
   "source": [
    "# 예측값 넣기\n",
    "test_result['pred_ts'] = pred_test"
   ]
  },
  {
   "cell_type": "code",
   "execution_count": 11,
   "id": "6ccfd35f",
   "metadata": {},
   "outputs": [],
   "source": [
    "# write.csv\n",
    "test_result.to_csv('../data/summer_test_result.csv', index = False)"
   ]
  },
  {
   "cell_type": "code",
   "execution_count": 12,
   "id": "e904d81d",
   "metadata": {},
   "outputs": [],
   "source": [
    "# 모델 저장\n",
    "model_name = '008_plan'\n",
    "with open(model_name+'_summer_automl.pickle','wb') as fw:\n",
    "    pickle.dump(automl, fw)\n",
    "\n",
    "# 모델 불러오기\n",
    "# with open('model_210519.pickle', 'rb') as f: \n",
    "#     model = pickle.load(f)"
   ]
  },
  {
   "cell_type": "markdown",
   "id": "feb417c7",
   "metadata": {},
   "source": [
    "======================================================================================================="
   ]
  },
  {
   "cell_type": "code",
   "execution_count": 3,
   "id": "80817f19",
   "metadata": {},
   "outputs": [],
   "source": [
    "with open('008_plan_summer_automl.pickle', 'rb') as f: \n",
    "     model = pickle.load(f)"
   ]
  },
  {
   "cell_type": "code",
   "execution_count": 4,
   "id": "f76b6262",
   "metadata": {},
   "outputs": [],
   "source": [
    "pred_test = model.predict(test)"
   ]
  },
  {
   "cell_type": "code",
   "execution_count": 5,
   "id": "81bb9bcb",
   "metadata": {},
   "outputs": [],
   "source": [
    "# 값 가져오기\n",
    "test_result = test.copy()"
   ]
  },
  {
   "cell_type": "code",
   "execution_count": 6,
   "id": "b4198466",
   "metadata": {},
   "outputs": [],
   "source": [
    "# 예측값 넣기\n",
    "test_result['pred_ts'] = pred_test"
   ]
  },
  {
   "cell_type": "code",
   "execution_count": 7,
   "id": "dc98c23d",
   "metadata": {},
   "outputs": [],
   "source": [
    "# write.csv\n",
    "test_result.to_csv('../data/summer_test_result.csv', index = False)"
   ]
  }
 ],
 "metadata": {
  "kernelspec": {
   "display_name": "please",
   "language": "python",
   "name": "please"
  },
  "language_info": {
   "codemirror_mode": {
    "name": "ipython",
    "version": 3
   },
   "file_extension": ".py",
   "mimetype": "text/x-python",
   "name": "python",
   "nbconvert_exporter": "python",
   "pygments_lexer": "ipython3",
   "version": "3.7.13"
  }
 },
 "nbformat": 4,
 "nbformat_minor": 5
}
