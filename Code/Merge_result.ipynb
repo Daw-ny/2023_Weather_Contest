{
 "cells": [
  {
   "cell_type": "markdown",
   "id": "ae44c614",
   "metadata": {},
   "source": [
    "# 제출 양식대로 저장하기"
   ]
  },
  {
   "cell_type": "code",
   "execution_count": 1,
   "id": "23728de3",
   "metadata": {},
   "outputs": [],
   "source": [
    "# preprocessing\n",
    "import numpy as np\n",
    "import pandas as pd\n",
    "import tqdm\n",
    "from scipy import stats\n",
    "\n",
    "# imputer\n",
    "from sklearn.impute import KNNImputer\n",
    "from sklearn.experimental import enable_iterative_imputer\n",
    "from sklearn.impute import IterativeImputer\n",
    "\n",
    "# 경고 무시\n",
    "import warnings\n",
    "warnings.filterwarnings('ignore')\n",
    "\n",
    "# model learning\n",
    "from sklearn.model_selection import train_test_split\n",
    "from supervised.automl import AutoML\n",
    "from sklearn.utils.class_weight import compute_sample_weight\n",
    "\n",
    "# 평가 지표\n",
    "from sklearn.metrics import mean_absolute_error"
   ]
  },
  {
   "cell_type": "code",
   "execution_count": 2,
   "id": "dde9eeb1",
   "metadata": {},
   "outputs": [],
   "source": [
    "# load data\n",
    "test_raw = pd.read_csv('../data/test.csv')\n",
    "spring = pd.read_csv('../data/spring_test_result.csv')\n",
    "summer = pd.read_csv('../data/summer_test_result.csv')\n",
    "fall = pd.read_csv('../data/fall_test_result_new_m.csv')\n",
    "winter = pd.read_csv('../data/winter_test_result_new_mice2.csv')\n",
    "test_next = pd.read_csv('../data/test_yests.csv')\n",
    "submit_spring = pd.read_excel('../submit/subminssionUser.xlsx', sheet_name = 'SPRING')\n",
    "submit_summer = pd.read_excel('../submit/subminssionUser.xlsx', sheet_name = 'SUMMER')\n",
    "submit_autumn = pd.read_excel('../submit/subminssionUser.xlsx', sheet_name = 'AUTUMN')\n",
    "submit_winter = pd.read_excel('../submit/subminssionUser.xlsx', sheet_name = 'WINTER')"
   ]
  },
  {
   "cell_type": "code",
   "execution_count": 3,
   "id": "0b5c0cad",
   "metadata": {},
   "outputs": [],
   "source": [
    "# 결합 전 변수 넣기\n",
    "test_next['mmddhh'] = test_raw['surface_tp_test.mmddhh']"
   ]
  },
  {
   "cell_type": "code",
   "execution_count": 4,
   "id": "c1bfd129",
   "metadata": {},
   "outputs": [],
   "source": [
    "# left join\n",
    "merge_spring = pd.merge(spring, test_next, how = 'left', on = ['stn', 'year', 'mm', 'dd', 'hh'])\n",
    "merge_summer = pd.merge(summer, test_next, how = 'left', on = ['stn', 'year', 'mm', 'dd', 'hh'])\n",
    "merge_autumn = pd.merge(fall, test_next, how = 'left', on = ['stn', 'mm', 'dd', 'hh'])\n",
    "merge_winter = pd.merge(winter, test_next, how = 'left', on = ['stn', 'mm', 'dd', 'hh'])"
   ]
  },
  {
   "cell_type": "code",
   "execution_count": 5,
   "id": "e4fe8217",
   "metadata": {},
   "outputs": [],
   "source": [
    "# 새로운 파일에 넣을 값 지정하기\n",
    "tmp_spring = pd.merge(merge_spring, submit_spring, how = 'right', left_on = ['stn', 'year', 'mmddhh'] , right_on = ['STN', 'YEAR', 'MMDDHH'])\n",
    "tmp_summer = pd.merge(merge_summer, submit_summer, how = 'right', left_on = ['stn', 'year', 'mmddhh'] , right_on = ['STN', 'YEAR', 'MMDDHH'])\n",
    "tmp_autumn = pd.merge(merge_autumn, submit_autumn, how = 'right', left_on = ['stn', 'year_x', 'mmddhh'] , right_on = ['STN', 'YEAR', 'MMDDHH'])\n",
    "tmp_winter = pd.merge(merge_winter, submit_winter, how = 'right', left_on = ['stn', 'year_x', 'mmddhh'] , right_on = ['STN', 'YEAR', 'MMDDHH'])"
   ]
  },
  {
   "cell_type": "code",
   "execution_count": 6,
   "id": "cb326fd5",
   "metadata": {},
   "outputs": [],
   "source": [
    "# 필요한 값만 뽑기\n",
    "tmp_spring['TS'] = tmp_spring['pred_ts']\n",
    "tmp_summer['TS'] = tmp_summer['pred_ts']\n",
    "tmp_autumn['TS'] = tmp_autumn['pred_ts']\n",
    "tmp_winter['TS'] = tmp_winter['pred_ts']"
   ]
  },
  {
   "cell_type": "code",
   "execution_count": 7,
   "id": "ddf019cb",
   "metadata": {},
   "outputs": [],
   "source": [
    "# 제출 형식으로 저장\n",
    "with pd.ExcelWriter('../submit/230175.xlsx') as writer:\n",
    "    tmp_spring[['STN', 'YEAR', 'MMDDHH', 'TS']].to_excel(writer, sheet_name = 'SPRING', index = False)\n",
    "    tmp_summer[['STN', 'YEAR', 'MMDDHH', 'TS']].to_excel(writer, sheet_name = 'SUMMER', index = False)\n",
    "    tmp_autumn[['STN', 'YEAR', 'MMDDHH', 'TS']].to_excel(writer, sheet_name = 'AUTUMN', index = False)\n",
    "    tmp_winter[['STN', 'YEAR', 'MMDDHH', 'TS']].to_excel(writer, sheet_name = 'WINTER', index = False)"
   ]
  }
 ],
 "metadata": {
  "kernelspec": {
   "display_name": "please",
   "language": "python",
   "name": "please"
  },
  "language_info": {
   "codemirror_mode": {
    "name": "ipython",
    "version": 3
   },
   "file_extension": ".py",
   "mimetype": "text/x-python",
   "name": "python",
   "nbconvert_exporter": "python",
   "pygments_lexer": "ipython3",
   "version": "3.7.13"
  }
 },
 "nbformat": 4,
 "nbformat_minor": 5
}
