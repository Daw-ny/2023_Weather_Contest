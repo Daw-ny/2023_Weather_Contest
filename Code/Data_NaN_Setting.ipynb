{
 "cells": [
  {
   "cell_type": "markdown",
   "id": "8f740aee",
   "metadata": {},
   "source": [
    "# 기상데이터 전처리 및 결측치 처리"
   ]
  },
  {
   "cell_type": "markdown",
   "id": "20eb9a98",
   "metadata": {},
   "source": [
    "### 결측치 처리 과정에서 알아봐야 할 것\n",
    "- 월일시 데이터 쪼개기\n",
    "- 0으로 채워야하는 변수는 단순하게 채울것\n",
    "- 실제로 일조량, 일사량은 햇빛에 의해서 발생하므로 실제 해가 떠있는 시간에 결측치가 없는지 확인\n",
    "- 결측치가 많지 않다면 제거해서 하는것도 괜찮아보임\n",
    "- 하지만 결측치가 많다면 변수를 제외시키거나 다른 방법을 찾아야함\n",
    "\n",
    "### 최초진단\n",
    "- 날씨를 나타내는 ww변수는 일단 제외시키고 진행하는 것을 권고\n",
    "- 다양하게 활용할 수 있다면 추가시키고 제어시켜서 진행하는것도 괜찮아 보임\n",
    "- 일사량과 일조량의 차이가 존재\n",
    "    - 일사량: 태양열에 의해 지면에서 올라오는 빛 \n",
    "    - 일조량: 태양으로부터 직접적으로 맞닿는 빛 초단위로 측정됨\n",
    "    - 태양광 산업에서는 일조 시간의 편차를 체크하는 것을 주요 요소로 판단\n",
    "    - 우리가 진행하는 데이터도 일조 시간과 관련해서 따져보면 나쁘지 않을듯.\n",
    "    \n",
    "### 코드 구조\n",
    "- 웬만해선 테스트 셋에도 똑같이 적용해야 하기 때문에 함수를 생성하고 그에 맞게 대입하는 방법을 주로 하는 것이 좋겠다\n",
    "\n",
    "### 일출 일몰\n",
    "- 황해안에서 동해안까지 차이는 10분 안쪽으로 차이가난다. -> 지역별 차이가 크지 않다.\n",
    "- 시간대별 데이터가 있기 때문에 일자별 일출 및 일몰 시간대를 구분할 수 있겠다.\n",
    "- 이것을 이용하여 일출 ~ 일몰때의 결측치와 일몰 ~ 일출 때의 결측치를 별도로 다룰 수 있겠다.\n",
    "- 데이터 출처 : https://astro.kasi.re.kr/index\n",
    "- 한국천문연구원 천문우주지식센터\n",
    "- 2022년 서울특별시기준 시간 단위\n",
    "- 2월 29일은 가장 가까운 2020년 데이터 활용"
   ]
  },
  {
   "cell_type": "markdown",
   "id": "bc2780e1",
   "metadata": {},
   "source": [
    "## 함수형 코드 구조"
   ]
  },
  {
   "cell_type": "code",
   "execution_count": 1,
   "id": "f9ccb308",
   "metadata": {},
   "outputs": [],
   "source": [
    "# preprocessing\n",
    "import numpy as np\n",
    "import pandas as pd\n",
    "import tqdm\n",
    "\n",
    "# 경고 무시\n",
    "import warnings\n",
    "warnings.filterwarnings('ignore')"
   ]
  },
  {
   "cell_type": "code",
   "execution_count": 2,
   "id": "aa6945d8",
   "metadata": {},
   "outputs": [],
   "source": [
    "# load data\n",
    "train = pd.read_csv('../data/train.csv')\n",
    "sun = pd.read_csv('../data/sun.csv')\n",
    "test = pd.read_csv('../data/test.csv')"
   ]
  },
  {
   "cell_type": "code",
   "execution_count": 3,
   "id": "c406cc5b",
   "metadata": {},
   "outputs": [],
   "source": [
    "# 결측치 숫자를 NaN으로 만들어야함\n",
    "def makenum(df, numbers):\n",
    "    for colname in df.columns:\n",
    "        df[colname][df[colname].isin(numbers)] = np.nan\n",
    "    return df"
   ]
  },
  {
   "cell_type": "code",
   "execution_count": 4,
   "id": "50a347ef",
   "metadata": {},
   "outputs": [],
   "source": [
    "# 열 이름마다 들어있는 surface_tp_train. 제거\n",
    "def change_colnames(df, string):\n",
    "    df.columns = list(pd.DataFrame(df.columns)[0].str.replace(string, ''))\n",
    "    return df"
   ]
  },
  {
   "cell_type": "code",
   "execution_count": 5,
   "id": "ede9a5be",
   "metadata": {},
   "outputs": [],
   "source": [
    "# 0으로 채워야 하는 변수는 모두 채워버리기\n",
    "def nanfill_select(df, list):\n",
    "    df[list] = df[list].fillna(0)\n",
    "    return df"
   ]
  },
  {
   "cell_type": "code",
   "execution_count": 6,
   "id": "d25f1bd0",
   "metadata": {},
   "outputs": [],
   "source": [
    "# 월일시 데이터 분리\n",
    "def splitmmddhh(df, datecolumn):\n",
    "    df[datecolumn] = df[datecolumn].astype(str).str.zfill(6)\n",
    "    df['mm'] = df[datecolumn].str.slice(0, 2).astype(int)\n",
    "    df['dd'] = df[datecolumn].str.slice(2, 4).astype(int)\n",
    "    df['hh'] = df[datecolumn].str.slice(4, 6).astype(int)\n",
    "    return df.drop(datecolumn, axis = 1)"
   ]
  },
  {
   "cell_type": "markdown",
   "id": "71ea8f9c",
   "metadata": {},
   "source": [
    "## 적용형 코드 구조"
   ]
  },
  {
   "cell_type": "markdown",
   "id": "98378e53",
   "metadata": {},
   "source": [
    "## Train"
   ]
  },
  {
   "cell_type": "code",
   "execution_count": 7,
   "id": "fb523bfa",
   "metadata": {},
   "outputs": [],
   "source": [
    "# 결측 숫자 NaN\n",
    "train2 = makenum(train, [-99.9, -99, -999])"
   ]
  },
  {
   "cell_type": "code",
   "execution_count": 8,
   "id": "39c46780",
   "metadata": {},
   "outputs": [],
   "source": [
    "# 열 이름 간략하게 바꾸기\n",
    "train3 = change_colnames(train2, 'surface_tp_train.')"
   ]
  },
  {
   "cell_type": "code",
   "execution_count": 9,
   "id": "9a4fb1e3",
   "metadata": {},
   "outputs": [],
   "source": [
    "# 월, 일, 시 분리하기\n",
    "train4 = splitmmddhh(train3, 'mmddhh')"
   ]
  },
  {
   "cell_type": "code",
   "execution_count": 10,
   "id": "771eef0f",
   "metadata": {},
   "outputs": [],
   "source": [
    "# 데이터 합치기\n",
    "train5 = pd.merge(train4, sun, how='left', on = ['mm', 'dd'])"
   ]
  },
  {
   "cell_type": "code",
   "execution_count": 12,
   "id": "ec2bce07",
   "metadata": {},
   "outputs": [],
   "source": [
    "# 결측치 빼지 말고 저장하기\n",
    "train5.to_csv('../data/train_yestsnona.csv', index = False)"
   ]
  },
  {
   "cell_type": "code",
   "execution_count": 13,
   "id": "1ffeeca8",
   "metadata": {},
   "outputs": [],
   "source": [
    "# 지면온도 결측치 제외(어차피 test에서는 없어서 test에서만 안돌리면 괜찮을듯)\n",
    "train6 = train5[train5['ts'].notnull()]"
   ]
  },
  {
   "cell_type": "code",
   "execution_count": 15,
   "id": "5c998108",
   "metadata": {},
   "outputs": [],
   "source": [
    "# save data\n",
    "train6.to_csv(\"../data/train_yests.csv\", index = False)"
   ]
  },
  {
   "cell_type": "markdown",
   "id": "f8c6afec",
   "metadata": {},
   "source": [
    "==========================================================================================================\n",
    "\n",
    "## test"
   ]
  },
  {
   "cell_type": "code",
   "execution_count": 17,
   "id": "ede524b3",
   "metadata": {},
   "outputs": [],
   "source": [
    "# 결측 숫자 NaN\n",
    "test2 = makenum(test, [-99.9, -99, -999])"
   ]
  },
  {
   "cell_type": "code",
   "execution_count": 18,
   "id": "194be9c4",
   "metadata": {},
   "outputs": [],
   "source": [
    "# 열 이름 간략하게 바꾸기\n",
    "test3 = change_colnames(test2, 'surface_tp_test.')"
   ]
  },
  {
   "cell_type": "code",
   "execution_count": 19,
   "id": "dc3859f3",
   "metadata": {},
   "outputs": [],
   "source": [
    "# 월, 일, 시 분리하기\n",
    "test4 = splitmmddhh(test3, 'mmddhh')"
   ]
  },
  {
   "cell_type": "code",
   "execution_count": 20,
   "id": "9140e9c7",
   "metadata": {},
   "outputs": [],
   "source": [
    "# 데이터 합치기\n",
    "test5 = pd.merge(test4, sun, how='left', on = ['mm', 'dd'])"
   ]
  },
  {
   "cell_type": "code",
   "execution_count": 21,
   "id": "3b55c261",
   "metadata": {},
   "outputs": [],
   "source": [
    "# save data\n",
    "test5.to_csv(\"../data/test_yests.csv\", index = False)"
   ]
  }
 ],
 "metadata": {
  "kernelspec": {
   "display_name": "please",
   "language": "python",
   "name": "please"
  },
  "language_info": {
   "codemirror_mode": {
    "name": "ipython",
    "version": 3
   },
   "file_extension": ".py",
   "mimetype": "text/x-python",
   "name": "python",
   "nbconvert_exporter": "python",
   "pygments_lexer": "ipython3",
   "version": "3.7.13"
  }
 },
 "nbformat": 4,
 "nbformat_minor": 5
}
