{
 "cells": [
  {
   "cell_type": "markdown",
   "id": "5220a5bc",
   "metadata": {},
   "source": [
    "# AutoML을 활용한 모델링"
   ]
  },
  {
   "cell_type": "code",
   "execution_count": 1,
   "id": "f57047f4",
   "metadata": {},
   "outputs": [],
   "source": [
    "# preprocessing\n",
    "import numpy as np\n",
    "import pandas as pd\n",
    "import tqdm\n",
    "from scipy import stats\n",
    "\n",
    "# imputer\n",
    "from sklearn.impute import KNNImputer\n",
    "from sklearn.experimental import enable_iterative_imputer\n",
    "from sklearn.impute import IterativeImputer\n",
    "\n",
    "# 경고 무시\n",
    "import warnings\n",
    "warnings.filterwarnings('ignore')\n",
    "\n",
    "# model learning\n",
    "from sklearn.model_selection import train_test_split\n",
    "from supervised.automl import AutoML\n",
    "from sklearn.utils.class_weight import compute_sample_weight\n",
    "\n",
    "# 평가 지표\n",
    "from sklearn.metrics import mean_absolute_error\n",
    "\n",
    "# 모델 저장\n",
    "import pickle"
   ]
  },
  {
   "cell_type": "code",
   "execution_count": 2,
   "id": "eb6ce808",
   "metadata": {},
   "outputs": [],
   "source": [
    "# load data\n",
    "data = pd.read_csv('../data/fall_mice_twice_train.csv')\n",
    "test = pd.read_csv('../data/fall_mice_twice_test.csv')"
   ]
  },
  {
   "cell_type": "code",
   "execution_count": 3,
   "id": "a2b2a415",
   "metadata": {},
   "outputs": [],
   "source": [
    "# split the train & valid data\n",
    "X_train, X_valid, y_train, y_valid = train_test_split(\n",
    "    data[data.columns.difference(['ts', 'stn', 'year'])],\n",
    "    data['ts'],\n",
    "    test_size=0.3,\n",
    "    random_state=42,\n",
    ")"
   ]
  },
  {
   "cell_type": "code",
   "execution_count": 4,
   "id": "32e54b94",
   "metadata": {},
   "outputs": [],
   "source": [
    "# automl modeling\n",
    "automl = AutoML(mode=\"Compete\",\n",
    "                algorithms=[\"Baseline\",\n",
    "                            \"CatBoost\",\n",
    "                            \"Xgboost\",\n",
    "                            \"Random Forest\",\n",
    "                            \"Extra Trees\",\n",
    "                            \"LightGBM\",\n",
    "                            \"Neural Network\",\n",
    "                            \"CatBoost\"],\n",
    "                ml_task = \"regression\",\n",
    "                eval_metric = \"mae\",\n",
    "                random_state = 42\n",
    "               )"
   ]
  },
  {
   "cell_type": "markdown",
   "id": "886bc085",
   "metadata": {},
   "source": [
    "- `Explain` : To to be used when the user wants to explain and understand the data.\n",
    "                    - Uses 75%/25% train/test split.\n",
    "                    - Uses the following models: `Baseline`, `Linear`, `Decision Tree`, `Random Forest`, `XGBoost`, `Neural Network`, and `Ensemble`.\n",
    "                    - Has full explanations in reports: learning curves, importance plots, and SHAP plots.\n",
    "                    \n",
    "- `Perform` : To be used when the user wants to train a model that will be used in real-life use cases.\n",
    "                    - Uses 5-fold CV (Cross-Validation).\n",
    "                    - Uses the following models: `Linear`, `Random Forest`, `LightGBM`, `XGBoost`, `CatBoost`, `Neural Network`, and `Ensemble`.\n",
    "                    - Has learning curves and importance plots in reports.\n",
    "\n",
    "- `Compete` : To be used for machine learning competitions (maximum performance).\n",
    "                    - Uses 80/20 train/test split, or 5-fold CV, or 10-fold CV (Cross-Validation) - it depends on `total_time_limit`. If not set directly, AutoML will select validation automatically.\n",
    "                    - Uses the following models: `Decision Tree`, `Random Forest`, `Extra Trees`, `LightGBM`,  `XGBoost`, `CatBoost`, `Neural Network`,\n",
    "                        `Nearest Neighbors`, `Ensemble`, and `Stacking`.\n",
    "                    - It has only learning curves in the reports.\n",
    "\n",
    "- `Optuna` : To be used for creating highly-tuned machine learning models.\n",
    "                    - Uses 10-fold CV (Cross-Validation).\n",
    "                    - It tunes with Optuna the following algorithms: `Random Forest`, `Extra Trees`, `LightGBM`, `XGBoost`, `CatBoost`, `Neural Network`.\n",
    "                    - It applies `Ensemble` and `Stacking` for trained models.\n",
    "                    - It has only learning curves in the reports."
   ]
  },
  {
   "cell_type": "code",
   "execution_count": 5,
   "id": "9cd1df33",
   "metadata": {
    "scrolled": false
   },
   "outputs": [
    {
     "name": "stdout",
     "output_type": "stream",
     "text": [
      "AutoML directory: AutoML_25\n",
      "The task is regression with evaluation metric mae\n",
      "AutoML will use algorithms: ['Baseline', 'CatBoost', 'Xgboost', 'Random Forest', 'Extra Trees', 'LightGBM', 'Neural Network', 'CatBoost']\n",
      "AutoML will stack models\n",
      "AutoML will ensemble available models\n",
      "AutoML steps: ['adjust_validation', 'simple_algorithms', 'default_algorithms', 'not_so_random', 'golden_features', 'kmeans_features', 'insert_random_feature', 'features_selection', 'hill_climbing_1', 'hill_climbing_2', 'boost_on_errors', 'ensemble', 'stack', 'ensemble_stacked']\n",
      "* Step adjust_validation will try to check up to 1 model\n",
      "1_DecisionTree mae 2.195524 trained in 0.47 seconds\n",
      "Adjust validation. Remove: 1_DecisionTree\n",
      "Validation strategy: 10-fold CV Shuffle\n",
      "* Step simple_algorithms will try to check up to 1 model\n",
      "1_Baseline mae 6.571143 trained in 1.91 seconds\n",
      "* Step default_algorithms will try to check up to 6 models\n",
      "2_Default_LightGBM mae 1.263171 trained in 111.82 seconds\n",
      "3_Default_Xgboost mae 1.30196 trained in 82.59 seconds\n",
      "4_Default_CatBoost mae 1.302647 trained in 182.17 seconds\n",
      "5_Default_NeuralNetwork mae 1.479901 trained in 55.74 seconds\n",
      "6_Default_RandomForest mae 1.89088 trained in 49.03 seconds\n",
      "7_Default_ExtraTrees mae 2.162499 trained in 40.43 seconds\n",
      "* Step not_so_random will try to check up to 54 models\n",
      "17_LightGBM mae 1.302934 trained in 71.04 seconds\n",
      "8_Xgboost mae 1.316951 trained in 59.18 seconds\n",
      "26_CatBoost mae 1.289318 trained in 267.48 seconds\n",
      "35_RandomForest mae 2.035 trained in 43.01 seconds\n",
      "44_ExtraTrees mae 2.030343 trained in 55.87 seconds\n",
      "53_NeuralNetwork mae 1.526853 trained in 50.83 seconds\n",
      "18_LightGBM mae 1.312489 trained in 47.49 seconds\n",
      "9_Xgboost mae 1.360631 trained in 33.8 seconds\n",
      "27_CatBoost mae 1.31238 trained in 109.74 seconds\n",
      "36_RandomForest mae 1.579182 trained in 61.02 seconds\n",
      "45_ExtraTrees mae 1.936892 trained in 26.89 seconds\n",
      "54_NeuralNetwork mae 1.47282 trained in 79.46 seconds\n",
      "19_LightGBM mae 1.285477 trained in 105.46 seconds\n",
      "10_Xgboost mae 1.299859 trained in 93.68 seconds\n",
      "28_CatBoost mae 1.290375 trained in 572.59 seconds\n",
      "Skip golden_features because of the time limit.\n",
      "Skip kmeans_features because of the time limit.\n",
      "Not enough time to perform features selection. Skip\n",
      "Time needed for features selection ~ 759.0 seconds\n",
      "Please increase total_time_limit to at least (7646 seconds) to have features selection\n",
      "Skip insert_random_feature because no parameters were generated.\n",
      "Skip features_selection because no parameters were generated.\n",
      "* Step hill_climbing_1 will try to check up to 28 models\n",
      "55_LightGBM mae 1.277146 trained in 63.81 seconds\n",
      "56_LightGBM mae 1.288199 trained in 56.04 seconds\n",
      "57_CatBoost mae 1.286055 trained in 323.98 seconds\n",
      "* Step hill_climbing_2 will try to check up to 33 models\n",
      "58_LightGBM mae 1.263171 trained in 141.46 seconds\n",
      "59_LightGBM mae 1.263171 trained in 163.49 seconds\n",
      "* Step boost_on_errors will try to check up to 1 model\n",
      "59_LightGBM_BoostOnErrors mae 1.270044 trained in 145.63 seconds\n",
      "* Step ensemble will try to check up to 1 model\n",
      "Ensemble mae 1.250002 trained in 3.73 seconds\n",
      "* Step stack will try to check up to 26 models\n",
      "58_LightGBM_Stacked mae 1.257359 trained in 25.72 seconds\n",
      "57_CatBoost_Stacked mae 1.258045 trained in 129.88 seconds\n",
      "10_Xgboost_Stacked mae 1.261268 trained in 44.61 seconds\n",
      "54_NeuralNetwork_Stacked mae 6.044573 trained in 56.72 seconds\n",
      "36_RandomForest_Stacked not trained. Stop training after the first fold. Time needed to train on the first fold 42.0 seconds. The time estimate for training on all folds is larger than total_time_limit.\n",
      "45_ExtraTrees_Stacked mae 1.259255 trained in 107.28 seconds\n",
      "59_LightGBM_Stacked mae 1.257359 trained in 20.98 seconds\n",
      "26_CatBoost_Stacked not trained. Stop training after the first fold. Time needed to train on the first fold 10.0 seconds. The time estimate for training on all folds is larger than total_time_limit.\n",
      "3_Default_Xgboost_Stacked not trained. Stop training after the first fold. Time needed to train on the first fold 2.0 seconds. The time estimate for training on all folds is larger than total_time_limit.\n",
      "5_Default_NeuralNetwork_Stacked not trained. Stop training after the first fold. Time needed to train on the first fold 9.0 seconds. The time estimate for training on all folds is larger than total_time_limit.\n",
      "6_Default_RandomForest_Stacked not trained. Stop training after the first fold. Time needed to train on the first fold 31.0 seconds. The time estimate for training on all folds is larger than total_time_limit.\n",
      "* Step ensemble_stacked will try to check up to 1 model\n",
      "Ensemble_Stacked mae 1.246372 trained in 4.25 seconds\n",
      "AutoML fit time: 3643.55 seconds\n",
      "AutoML best model: Ensemble_Stacked\n"
     ]
    },
    {
     "data": {
      "text/plain": [
       "AutoML(algorithms=['Baseline', 'CatBoost', 'Xgboost', 'Random Forest',\n",
       "                   'Extra Trees', 'LightGBM', 'Neural Network', 'CatBoost'],\n",
       "       eval_metric='mae', ml_task='regression', mode='Compete',\n",
       "       random_state=42)"
      ]
     },
     "execution_count": 5,
     "metadata": {},
     "output_type": "execute_result"
    }
   ],
   "source": [
    "# fit automl mljar\n",
    "automl.fit(X_train, y_train)"
   ]
  },
  {
   "cell_type": "code",
   "execution_count": 6,
   "id": "34ed39c3",
   "metadata": {},
   "outputs": [],
   "source": [
    "# predict\n",
    "#automl_pred = automl.predict(X_valid)"
   ]
  },
  {
   "cell_type": "code",
   "execution_count": 7,
   "id": "3b6e15be",
   "metadata": {},
   "outputs": [],
   "source": [
    "# MAE값 구하기\n",
    "#mean_absolute_error(y_valid, automl_pred)"
   ]
  },
  {
   "cell_type": "code",
   "execution_count": 8,
   "id": "919eb0f2",
   "metadata": {},
   "outputs": [],
   "source": [
    "# testset의 예측값 구하기\n",
    "# pred_test = automl.predict(test[test.columns.difference(['stn'])])\n",
    "pred_test = automl.predict(test)"
   ]
  },
  {
   "cell_type": "code",
   "execution_count": 9,
   "id": "81df6d5e",
   "metadata": {},
   "outputs": [],
   "source": [
    "# 값 가져오기\n",
    "test_result = test.copy()"
   ]
  },
  {
   "cell_type": "code",
   "execution_count": 10,
   "id": "f29cb87c",
   "metadata": {},
   "outputs": [],
   "source": [
    "# 예측값 넣기\n",
    "test_result['pred_ts'] = pred_test"
   ]
  },
  {
   "cell_type": "code",
   "execution_count": 11,
   "id": "660fb4db",
   "metadata": {},
   "outputs": [],
   "source": [
    "# write.csv\n",
    "test_result.to_csv('../data/fall_test_result.csv', index = False)"
   ]
  },
  {
   "cell_type": "code",
   "execution_count": 12,
   "id": "c94c8452",
   "metadata": {},
   "outputs": [],
   "source": [
    "# 모델 저장\n",
    "model_name = '009_plan'\n",
    "with open(model_name+'_fall_automl.pickle','wb') as fw:\n",
    "    pickle.dump(automl, fw)\n",
    "\n",
    "# 모델 불러오기\n",
    "# with open('model_210519.pickle', 'rb') as f: \n",
    "#     model = pickle.load(f)"
   ]
  },
  {
   "cell_type": "markdown",
   "id": "0e09a03a",
   "metadata": {},
   "source": [
    "======================================================================================================="
   ]
  },
  {
   "cell_type": "code",
   "execution_count": 13,
   "id": "a859daa8",
   "metadata": {},
   "outputs": [],
   "source": [
    "#with open('005_plan_fall_automl.pickle', 'rb') as f: \n",
    "#     model = pickle.load(f)"
   ]
  },
  {
   "cell_type": "code",
   "execution_count": 14,
   "id": "25b99738",
   "metadata": {},
   "outputs": [],
   "source": [
    "#pred_test = model.predict(test)"
   ]
  },
  {
   "cell_type": "code",
   "execution_count": 15,
   "id": "0cd1337c",
   "metadata": {},
   "outputs": [],
   "source": [
    "# 값 가져오기\n",
    "#test_result = test.copy()"
   ]
  },
  {
   "cell_type": "code",
   "execution_count": 16,
   "id": "8e65d5ea",
   "metadata": {},
   "outputs": [],
   "source": [
    "# 예측값 넣기\n",
    "#test_result['pred_ts'] = pred_test"
   ]
  },
  {
   "cell_type": "code",
   "execution_count": 17,
   "id": "a1309d56",
   "metadata": {},
   "outputs": [],
   "source": [
    "# write.csv\n",
    "#test_result.to_csv('../data/fall_test_result.csv', index = False)"
   ]
  }
 ],
 "metadata": {
  "kernelspec": {
   "display_name": "please",
   "language": "python",
   "name": "please"
  },
  "language_info": {
   "codemirror_mode": {
    "name": "ipython",
    "version": 3
   },
   "file_extension": ".py",
   "mimetype": "text/x-python",
   "name": "python",
   "nbconvert_exporter": "python",
   "pygments_lexer": "ipython3",
   "version": "3.7.13"
  }
 },
 "nbformat": 4,
 "nbformat_minor": 5
}
