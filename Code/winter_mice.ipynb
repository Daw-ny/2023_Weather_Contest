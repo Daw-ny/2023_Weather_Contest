{
 "cells": [
  {
   "cell_type": "code",
   "execution_count": 1,
   "id": "9b2ed8f3",
   "metadata": {},
   "outputs": [],
   "source": [
    "import pandas as pd\n",
    "import matplotlib.pyplot as plt\n",
    "import seaborn as sns\n",
    "import matplotlib.pyplot as plt\n",
    "import numpy as np\n",
    "from sklearn.experimental import enable_iterative_imputer\n",
    "from sklearn.impute import SimpleImputer, IterativeImputer"
   ]
  },
  {
   "cell_type": "code",
   "execution_count": 11,
   "id": "63cffa52",
   "metadata": {},
   "outputs": [],
   "source": [
    "winter_n = pd.read_csv('C:/Users/LG/Downloads/winter_new.csv')"
   ]
  },
  {
   "cell_type": "code",
   "execution_count": 12,
   "id": "f558217f",
   "metadata": {},
   "outputs": [],
   "source": [
    "winter=winter_n.drop(['Unnamed: 0.1','Unnamed: 0','sunriseh','sunrisem','sunseth','sunsetm','ww'],axis = 1)"
   ]
  },
  {
   "cell_type": "code",
   "execution_count": 13,
   "id": "2e1588a6",
   "metadata": {},
   "outputs": [],
   "source": [
    "def get_outlier(df=None, column=None, weight=1.5):\n",
    "  df['a']=True\n",
    "  # target 값과 상관관계가 높은 열을 우선적으로 진행\n",
    "  quantile_25 = np.percentile(df[column].values, 25)\n",
    "  quantile_75 = np.percentile(df[column].values, 75)\n",
    "\n",
    "  IQR = quantile_75 - quantile_25\n",
    "  IQR_weight = IQR*weight\n",
    "  \n",
    "  lowest = quantile_25 - IQR_weight\n",
    "  highest = quantile_75 + IQR_weight\n",
    "  df['a'][ (df[column] <= lowest) | (df[column] >= highest) ]= False"
   ]
  },
  {
   "cell_type": "code",
   "execution_count": 14,
   "id": "5c9162f6",
   "metadata": {},
   "outputs": [
    {
     "name": "stderr",
     "output_type": "stream",
     "text": [
      "C:\\Users\\LG\\AppData\\Local\\Temp\\ipykernel_19520\\3683680579.py:12: SettingWithCopyWarning: \n",
      "A value is trying to be set on a copy of a slice from a DataFrame\n",
      "\n",
      "See the caveats in the documentation: https://pandas.pydata.org/pandas-docs/stable/user_guide/indexing.html#returning-a-view-versus-a-copy\n",
      "  df['a'][ (df[column] <= lowest) | (df[column] >= highest) ]= False\n"
     ]
    }
   ],
   "source": [
    "get_outlier(df=winter,column='ts',weight=1.5)"
   ]
  },
  {
   "cell_type": "code",
   "execution_count": 15,
   "id": "8974d426",
   "metadata": {},
   "outputs": [
    {
     "name": "stderr",
     "output_type": "stream",
     "text": [
      "C:\\Users\\LG\\AppData\\Local\\Temp\\ipykernel_19520\\1689143954.py:1: SettingWithCopyWarning: \n",
      "A value is trying to be set on a copy of a slice from a DataFrame\n",
      "\n",
      "See the caveats in the documentation: https://pandas.pydata.org/pandas-docs/stable/user_guide/indexing.html#returning-a-view-versus-a-copy\n",
      "  winter['ts'][winter['a'] == False] = np.nan\n"
     ]
    }
   ],
   "source": [
    "winter['ts'][winter['a'] == False] = np.nan"
   ]
  },
  {
   "cell_type": "code",
   "execution_count": 17,
   "id": "a8dd8bb1",
   "metadata": {},
   "outputs": [],
   "source": [
    "winter1=winter.drop(['year'],axis = 1)"
   ]
  },
  {
   "cell_type": "code",
   "execution_count": 18,
   "id": "769294bc",
   "metadata": {},
   "outputs": [],
   "source": [
    "imputer_mice = IterativeImputer(random_state=42)\n",
    "imputer_mice.fit(winter1)\n",
    "winter1 = pd.DataFrame(imputer_mice.transform(winter1), columns=winter1.columns)"
   ]
  },
  {
   "cell_type": "code",
   "execution_count": 19,
   "id": "1f357d45",
   "metadata": {},
   "outputs": [],
   "source": [
    "winter['ts']=winter1['ts']"
   ]
  },
  {
   "cell_type": "code",
   "execution_count": 20,
   "id": "f4679f7b",
   "metadata": {},
   "outputs": [
    {
     "data": {
      "text/plain": [
       "stn     0\n",
       "year    0\n",
       "ta      0\n",
       "td      0\n",
       "hm      0\n",
       "ws      0\n",
       "rn      0\n",
       "re      0\n",
       "ts      0\n",
       "si      0\n",
       "ss      0\n",
       "sn      0\n",
       "mm      0\n",
       "dd      0\n",
       "hh      0\n",
       "a       0\n",
       "dtype: int64"
      ]
     },
     "execution_count": 20,
     "metadata": {},
     "output_type": "execute_result"
    }
   ],
   "source": [
    "winter.isna().sum()"
   ]
  },
  {
   "cell_type": "code",
   "execution_count": null,
   "id": "2d4863e7",
   "metadata": {},
   "outputs": [],
   "source": []
  }
 ],
 "metadata": {
  "kernelspec": {
   "display_name": "Python 3 (ipykernel)",
   "language": "python",
   "name": "python3"
  },
  "language_info": {
   "codemirror_mode": {
    "name": "ipython",
    "version": 3
   },
   "file_extension": ".py",
   "mimetype": "text/x-python",
   "name": "python",
   "nbconvert_exporter": "python",
   "pygments_lexer": "ipython3",
   "version": "3.10.2"
  }
 },
 "nbformat": 4,
 "nbformat_minor": 5
}
