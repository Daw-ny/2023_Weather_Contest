{
 "cells": [
  {
   "cell_type": "markdown",
   "id": "5220a5bc",
   "metadata": {},
   "source": [
    "# AutoML을 활용한 모델링"
   ]
  },
  {
   "cell_type": "code",
   "execution_count": 21,
   "id": "f57047f4",
   "metadata": {},
   "outputs": [],
   "source": [
    "# preprocessing\n",
    "import numpy as np\n",
    "import pandas as pd\n",
    "import tqdm\n",
    "from scipy import stats\n",
    "\n",
    "# imputer\n",
    "from sklearn.impute import KNNImputer\n",
    "from sklearn.experimental import enable_iterative_imputer\n",
    "from sklearn.impute import IterativeImputer\n",
    "\n",
    "# 경고 무시\n",
    "import warnings\n",
    "warnings.filterwarnings('ignore')\n",
    "\n",
    "# model learning\n",
    "from sklearn.model_selection import train_test_split\n",
    "from supervised.automl import AutoML\n",
    "from sklearn.utils.class_weight import compute_sample_weight\n",
    "\n",
    "# 평가 지표\n",
    "from sklearn.metrics import mean_absolute_error\n",
    "\n",
    "# 모델 저장\n",
    "import pickle"
   ]
  },
  {
   "cell_type": "code",
   "execution_count": 22,
   "id": "eb6ce808",
   "metadata": {},
   "outputs": [],
   "source": [
    "# load data\n",
    "data = pd.read_csv('../data/spring_new_value.csv')\n",
    "test = pd.read_csv('../data/spring_new_test_value.csv')"
   ]
  },
  {
   "cell_type": "code",
   "execution_count": 3,
   "id": "a2b2a415",
   "metadata": {},
   "outputs": [],
   "source": [
    "# split the train & valid data\n",
    "X_train, X_valid, y_train, y_valid = train_test_split(\n",
    "    data[data.columns.difference(['ts', 'stn', 'year'])],\n",
    "    data['ts'],\n",
    "    test_size=0.3,\n",
    "    random_state=42,\n",
    ")"
   ]
  },
  {
   "cell_type": "code",
   "execution_count": 4,
   "id": "32e54b94",
   "metadata": {},
   "outputs": [],
   "source": [
    "# automl modeling\n",
    "automl = AutoML(mode=\"Compete\",\n",
    "                algorithms=[\"Baseline\",\n",
    "                            \"CatBoost\",\n",
    "                            \"Xgboost\",\n",
    "                            \"Random Forest\",\n",
    "                            \"Extra Trees\",\n",
    "                            \"LightGBM\",\n",
    "                            \"Neural Network\",\n",
    "                            \"CatBoost\"],\n",
    "                ml_task = \"regression\",\n",
    "                eval_metric = \"mae\",\n",
    "                random_state = 42\n",
    "               )"
   ]
  },
  {
   "cell_type": "markdown",
   "id": "886bc085",
   "metadata": {},
   "source": [
    "- `Explain` : To to be used when the user wants to explain and understand the data.\n",
    "                    - Uses 75%/25% train/test split.\n",
    "                    - Uses the following models: `Baseline`, `Linear`, `Decision Tree`, `Random Forest`, `XGBoost`, `Neural Network`, and `Ensemble`.\n",
    "                    - Has full explanations in reports: learning curves, importance plots, and SHAP plots.\n",
    "                    \n",
    "- `Perform` : To be used when the user wants to train a model that will be used in real-life use cases.\n",
    "                    - Uses 5-fold CV (Cross-Validation).\n",
    "                    - Uses the following models: `Linear`, `Random Forest`, `LightGBM`, `XGBoost`, `CatBoost`, `Neural Network`, and `Ensemble`.\n",
    "                    - Has learning curves and importance plots in reports.\n",
    "\n",
    "- `Compete` : To be used for machine learning competitions (maximum performance).\n",
    "                    - Uses 80/20 train/test split, or 5-fold CV, or 10-fold CV (Cross-Validation) - it depends on `total_time_limit`. If not set directly, AutoML will select validation automatically.\n",
    "                    - Uses the following models: `Decision Tree`, `Random Forest`, `Extra Trees`, `LightGBM`,  `XGBoost`, `CatBoost`, `Neural Network`,\n",
    "                        `Nearest Neighbors`, `Ensemble`, and `Stacking`.\n",
    "                    - It has only learning curves in the reports.\n",
    "\n",
    "- `Optuna` : To be used for creating highly-tuned machine learning models.\n",
    "                    - Uses 10-fold CV (Cross-Validation).\n",
    "                    - It tunes with Optuna the following algorithms: `Random Forest`, `Extra Trees`, `LightGBM`, `XGBoost`, `CatBoost`, `Neural Network`.\n",
    "                    - It applies `Ensemble` and `Stacking` for trained models.\n",
    "                    - It has only learning curves in the reports."
   ]
  },
  {
   "cell_type": "code",
   "execution_count": 5,
   "id": "9cd1df33",
   "metadata": {},
   "outputs": [
    {
     "name": "stdout",
     "output_type": "stream",
     "text": [
      "AutoML directory: AutoML_23\n",
      "The task is regression with evaluation metric mae\n",
      "AutoML will use algorithms: ['Baseline', 'CatBoost', 'Xgboost', 'Random Forest', 'Extra Trees', 'LightGBM', 'Neural Network', 'CatBoost']\n",
      "AutoML will stack models\n",
      "AutoML will ensemble available models\n",
      "AutoML steps: ['adjust_validation', 'simple_algorithms', 'default_algorithms', 'not_so_random', 'golden_features', 'kmeans_features', 'insert_random_feature', 'features_selection', 'hill_climbing_1', 'hill_climbing_2', 'boost_on_errors', 'ensemble', 'stack', 'ensemble_stacked']\n",
      "* Step adjust_validation will try to check up to 1 model\n",
      "1_DecisionTree mae 2.118086 trained in 0.98 seconds\n",
      "Adjust validation. Remove: 1_DecisionTree\n",
      "Validation strategy: 10-fold CV Shuffle\n",
      "* Step simple_algorithms will try to check up to 1 model\n",
      "1_Baseline mae 6.887814 trained in 3.67 seconds\n",
      "* Step default_algorithms will try to check up to 6 models\n",
      "2_Default_LightGBM mae 1.155707 trained in 153.58 seconds\n",
      "3_Default_Xgboost mae 1.193577 trained in 166.93 seconds\n",
      "4_Default_CatBoost mae 1.192874 trained in 330.49 seconds\n",
      "5_Default_NeuralNetwork mae 1.410994 trained in 131.37 seconds\n",
      "6_Default_RandomForest mae 2.050177 trained in 138.28 seconds\n",
      "* Step not_so_random will try to check up to 54 models\n",
      "16_LightGBM mae 1.186398 trained in 174.84 seconds\n",
      "7_Xgboost mae 1.196654 trained in 93.73 seconds\n",
      "25_CatBoost mae 1.179317 trained in 456.06 seconds\n",
      "34_RandomForest mae 2.084305 trained in 103.18 seconds\n",
      "43_ExtraTrees mae 1.9811 trained in 45.1 seconds\n",
      "* Step golden_features will try to check up to 3 models\n",
      "None 10\n",
      "Add Golden Feature: vapor_pressure_sum_si\n",
      "Add Golden Feature: ta_sum_si\n",
      "Add Golden Feature: vapor_pressure_sum_ss\n",
      "Add Golden Feature: ta_sum_ss\n",
      "Add Golden Feature: vapor_pressure_multiply_ta\n",
      "Add Golden Feature: hm_ratio_air_mix\n",
      "Add Golden Feature: air_mix_ratio_hm\n",
      "Add Golden Feature: hm_ratio_air_pressure\n",
      "Add Golden Feature: air_pressure_ratio_hm\n",
      "Add Golden Feature: vapor_pressure_sum_ta\n",
      "Created 10 Golden Features in 27.96 seconds.\n",
      "2_Default_LightGBM_GoldenFeatures mae 1.1631 trained in 338.26 seconds\n",
      "Skip kmeans_features because of the time limit.\n",
      "Not enough time to perform features selection. Skip\n",
      "Time needed for features selection ~ 1133.0 seconds\n",
      "Please increase total_time_limit to at least (11395 seconds) to have features selection\n",
      "Skip insert_random_feature because no parameters were generated.\n",
      "Skip features_selection because no parameters were generated.\n",
      "* Step hill_climbing_1 will try to check up to 19 models\n",
      "44_LightGBM mae 1.155707 trained in 183.53 seconds\n",
      "45_LightGBM mae 1.155707 trained in 226.55 seconds\n",
      "46_LightGBM_GoldenFeatures mae 1.1631 trained in 185.92 seconds\n",
      "* Step hill_climbing_2 will try to check up to 20 models\n",
      "47_LightGBM mae 1.170566 trained in 153.03 seconds\n",
      "* Step boost_on_errors will try to check up to 1 model\n",
      "2_Default_LightGBM_BoostOnErrors mae 1.16359 trained in 127.47 seconds\n",
      "* Step ensemble will try to check up to 1 model\n",
      "Ensemble mae 1.146419 trained in 2.62 seconds\n",
      "* Step stack will try to check up to 15 models\n",
      "2_Default_LightGBM_Stacked mae 1.15407 trained in 27.43 seconds\n",
      "25_CatBoost_Stacked mae 1.159158 trained in 119.57 seconds\n",
      "3_Default_Xgboost_Stacked mae 1.153435 trained in 35.94 seconds\n",
      "5_Default_NeuralNetwork_Stacked mae 1.230475 trained in 84.54 seconds\n",
      "43_ExtraTrees_Stacked mae 1.175561 trained in 162.35 seconds\n",
      "6_Default_RandomForest_Stacked not trained. Stop training after the first fold. Time needed to train on the first fold 38.0 seconds. The time estimate for training on all folds is larger than total_time_limit.\n",
      "45_LightGBM_Stacked mae 1.15407 trained in 24.11 seconds\n",
      "4_Default_CatBoost_Stacked mae 1.159488 trained in 94.71 seconds\n",
      "* Step ensemble_stacked will try to check up to 1 model\n",
      "Ensemble_Stacked mae 1.145887 trained in 4.1 seconds\n",
      "AutoML fit time: 3669.9 seconds\n",
      "AutoML best model: Ensemble_Stacked\n"
     ]
    },
    {
     "data": {
      "text/plain": [
       "AutoML(algorithms=['Baseline', 'CatBoost', 'Xgboost', 'Random Forest',\n",
       "                   'Extra Trees', 'LightGBM', 'Neural Network', 'CatBoost'],\n",
       "       eval_metric='mae', ml_task='regression', mode='Compete',\n",
       "       random_state=42)"
      ]
     },
     "execution_count": 5,
     "metadata": {},
     "output_type": "execute_result"
    }
   ],
   "source": [
    "# fit automl mljar\n",
    "automl.fit(X_train, y_train)"
   ]
  },
  {
   "cell_type": "code",
   "execution_count": 6,
   "id": "34ed39c3",
   "metadata": {},
   "outputs": [],
   "source": [
    "# predict\n",
    "#automl_pred = automl.predict(X_valid)"
   ]
  },
  {
   "cell_type": "code",
   "execution_count": 7,
   "id": "3b6e15be",
   "metadata": {},
   "outputs": [],
   "source": [
    "# MAE값 구하기\n",
    "#mean_absolute_error(y_valid, automl_pred)"
   ]
  },
  {
   "cell_type": "code",
   "execution_count": 8,
   "id": "919eb0f2",
   "metadata": {},
   "outputs": [],
   "source": [
    "# testset의 예측값 구하기\n",
    "# pred_test = automl.predict(test[test.columns.difference(['stn'])])\n",
    "pred_test = automl.predict(test)"
   ]
  },
  {
   "cell_type": "code",
   "execution_count": 9,
   "id": "81df6d5e",
   "metadata": {},
   "outputs": [],
   "source": [
    "# 값 가져오기\n",
    "test_result = test.copy()"
   ]
  },
  {
   "cell_type": "code",
   "execution_count": 10,
   "id": "f29cb87c",
   "metadata": {},
   "outputs": [],
   "source": [
    "# 예측값 넣기\n",
    "test_result['pred_ts'] = pred_test"
   ]
  },
  {
   "cell_type": "code",
   "execution_count": 11,
   "id": "660fb4db",
   "metadata": {},
   "outputs": [],
   "source": [
    "# write.csv\n",
    "test_result.to_csv('../data/spring_test_result.csv', index = False)"
   ]
  },
  {
   "cell_type": "code",
   "execution_count": 12,
   "id": "c94c8452",
   "metadata": {},
   "outputs": [],
   "source": [
    "# 모델 저장\n",
    "model_name = '009_plan'\n",
    "with open(model_name+'_spring_automl.pickle','wb') as fw:\n",
    "    pickle.dump(automl, fw)\n",
    "\n",
    "# 모델 불러오기\n",
    "# with open('model_210519.pickle', 'rb') as f: \n",
    "#     model = pickle.load(f)"
   ]
  },
  {
   "cell_type": "markdown",
   "id": "0e09a03a",
   "metadata": {},
   "source": [
    "======================================================================================================="
   ]
  },
  {
   "cell_type": "code",
   "execution_count": 29,
   "id": "a859daa8",
   "metadata": {},
   "outputs": [],
   "source": [
    "with open('003_plan_spring_automl.pickle', 'rb') as f: \n",
    "     model = pickle.load(f)"
   ]
  },
  {
   "cell_type": "code",
   "execution_count": 30,
   "id": "25b99738",
   "metadata": {},
   "outputs": [],
   "source": [
    "pred_test = model.predict(test)"
   ]
  },
  {
   "cell_type": "code",
   "execution_count": 31,
   "id": "0cd1337c",
   "metadata": {},
   "outputs": [],
   "source": [
    "# 값 가져오기\n",
    "test_result = test.copy()"
   ]
  },
  {
   "cell_type": "code",
   "execution_count": 32,
   "id": "8e65d5ea",
   "metadata": {},
   "outputs": [],
   "source": [
    "# 예측값 넣기\n",
    "test_result['pred_ts'] = pred_test"
   ]
  },
  {
   "cell_type": "code",
   "execution_count": 33,
   "id": "a1309d56",
   "metadata": {},
   "outputs": [],
   "source": [
    "# write.csv\n",
    "test_result.to_csv('../data/spring_test_result.csv', index = False)"
   ]
  }
 ],
 "metadata": {
  "kernelspec": {
   "display_name": "please",
   "language": "python",
   "name": "please"
  },
  "language_info": {
   "codemirror_mode": {
    "name": "ipython",
    "version": 3
   },
   "file_extension": ".py",
   "mimetype": "text/x-python",
   "name": "python",
   "nbconvert_exporter": "python",
   "pygments_lexer": "ipython3",
   "version": "3.7.13"
  }
 },
 "nbformat": 4,
 "nbformat_minor": 5
}
